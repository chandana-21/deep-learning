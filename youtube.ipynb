{
 "cells": [
  {
   "cell_type": "markdown",
   "id": "b6834ef9",
   "metadata": {},
   "source": [
    "# Youtube Video Summary\n",
    "\n",
    "#### In extractive summarization, the system will extract the important paragraphs and contents from the given passage and combine these extracted paragraphs to create the summarized text.\n",
    "\n",
    "#### In abstractive summarization, the system will create a summary based on the given passage with its own words. This is more complex than extractive summarization.\n",
    "\n",
    "Using extractive summarization"
   ]
  },
  {
   "cell_type": "code",
   "execution_count": 1,
   "id": "ef9b4f22",
   "metadata": {},
   "outputs": [],
   "source": [
    "import numpy as np\n",
    "import nltk\n",
    "import re\n",
    "from nltk.corpus import stopwords\n",
    "import sklearn\n",
    "from sklearn.feature_extraction.text import TfidfVectorizer"
   ]
  },
  {
   "cell_type": "code",
   "execution_count": 2,
   "id": "02221350",
   "metadata": {},
   "outputs": [
    {
     "name": "stdout",
     "output_type": "stream",
     "text": [
      "Requirement already satisfied: youtube-transcript-api in /Applications/anaconda3/lib/python3.8/site-packages (0.4.3)\n",
      "Requirement already satisfied: requests in /Applications/anaconda3/lib/python3.8/site-packages (from youtube-transcript-api) (2.25.1)\n",
      "Requirement already satisfied: urllib3<1.27,>=1.21.1 in /Applications/anaconda3/lib/python3.8/site-packages (from requests->youtube-transcript-api) (1.26.4)\n",
      "Requirement already satisfied: idna<3,>=2.5 in /Applications/anaconda3/lib/python3.8/site-packages (from requests->youtube-transcript-api) (2.10)\n",
      "Requirement already satisfied: chardet<5,>=3.0.2 in /Applications/anaconda3/lib/python3.8/site-packages (from requests->youtube-transcript-api) (4.0.0)\n",
      "Requirement already satisfied: certifi>=2017.4.17 in /Applications/anaconda3/lib/python3.8/site-packages (from requests->youtube-transcript-api) (2021.10.8)\n",
      "Note: you may need to restart the kernel to use updated packages.\n"
     ]
    }
   ],
   "source": [
    "pip install youtube-transcript-api"
   ]
  },
  {
   "cell_type": "code",
   "execution_count": 3,
   "id": "88a6615b",
   "metadata": {},
   "outputs": [],
   "source": [
    "import youtube_transcript_api\n",
    "from youtube_transcript_api import YouTubeTranscriptApi"
   ]
  },
  {
   "cell_type": "code",
   "execution_count": 4,
   "id": "cccedea7",
   "metadata": {},
   "outputs": [
    {
     "name": "stdout",
     "output_type": "stream",
     "text": [
      "Enter a youtube link : https://www.youtube.com/watch?v=JaUCiKTNBxQ\n"
     ]
    }
   ],
   "source": [
    "link = input(\"Enter a youtube link : \") # it should look like this: \"https://www.youtube.com/watch?v=JaUCiKTNBxQ\" \n",
    "unique_id = link.split(\"=\")[-1]\n",
    "sub = YouTubeTranscriptApi.get_transcript(unique_id)  \n",
    "subtitle = \" \".join([x['text'] for x in sub])"
   ]
  },
  {
   "cell_type": "code",
   "execution_count": 5,
   "id": "d87b6526",
   "metadata": {},
   "outputs": [],
   "source": [
    "from nltk.tokenize import sent_tokenize"
   ]
  },
  {
   "cell_type": "code",
   "execution_count": 6,
   "id": "a831b15d",
   "metadata": {},
   "outputs": [
    {
     "data": {
      "text/plain": [
       "\"after joining google in 2004 sundar pachai became the chief executive officer of google in 2015. after the creation of alphabet google's parent group it took sundar just four years to become the chief executive officer of alphabet despite his meteoric rise from the populist city of chennai in india to the height of the tech industry sundar has still managed to be one of the most liked ceos in silicon valley in this video we'll be looking at what a day and sundar pichai's life looks like and maybe just maybe we'll see why he has a 96 approval rating on glassdoor and is known as the mr nice guy of silicon valley you're a nice guy welcome back to our channel if you haven't already make sure you hit the subscribe button and ring that bell so you're notified every time we upload a new video morning routines the sun rises sundar wakes up between 6 30 and 7 a.m in the morning this is just around elon musk's and mark zuckerberg 7 a.m and 8 a.m respective wake-up times but it's not as early as jeff bezos and tim cook who wake up by 5 am and 3 45 am respectively compared to tim cook sundar pichai's 7 am wake up time is pretty fair and pretty normal what's not normal though is the ceo of alphabet the company that's supposed to lead us into the paperless age reading his news from a newspaper every morning that's right mr sundar reaches for a print copy of the daily wall street journal to digest business news and updates however he does also check the new york times online as well next he takes his breakfast which is usually an omelet seems pretty basic or boring but the natural combination of nutrients like choline tryptophan vitamin b12 and iron all help in reducing anxiety risk and depression as well as aiding sleep not to mention it helps with weight management so it's no wonder that sundar has a healthy slim build and is in a good state of mind to run one of the most important companies in the history of humanity he also adds that he likes to maintain his very english habit of drinking a cup of tea in the morning this english habit being the effect of indian colonization by the british according to pachai i'm not a morning person so i need my time with my paper and tea to wake up and kind of get going so he doesn't work out in the morning instead he picks out a casual but put together outfit that has once been described as banana republic dad meetings unlike elon musk who has strict restrictions on his meetings or jeff bezos who likes to have his meetings only in the morning sundar pachai is always ready to attend meetings that are necessary in fact he sometimes takes meetings on the go when he can it is said that he can wander away during a meeting if a problem that needs solving is posed only to come back in a short time with a solution that the team can discuss this is because sundar claims that he loves to pace when working on something i love to pace and actually to think i have to start walking apparently during meetings he has the habit of keeping quiet and waiting for everyone to speak while he listens at the end of the comments he then throws out ideas that people could work on interaction with work and employees sundar pichai's meeting style of listening before talking is just a reflection of his leadership style which everyone loves in fact an ex-google employee martine huffed who worked as a technical program manager under the sundar run android department had this to say if there's anybody that could take over a ceo one day i would see sundar as being a great choice for doing that that was in 2014 just a year before sundar pachai actually got appointed as the ceo of google hoofed explained this by comparing sundar with the former ceos saying that larry is not afraid of setting an audacious goal whereas i think sundar is more of a great operator he can assemble the team he can appoint the right people and he's the one that makes it happen that's not to say that sundar doesn't have any product vision current projects and we do know that sundar does have product vision simply by recalling some of the new features that were discussed in google's io keynote in may 2021 this includes improvements to the google search bar and its function as well as their research and development interests in things like lambda ai and sycamore google's quantum computer lambda ai stands for language model for dialogue applications and is built on the novel neural network for language understanding called transformer using deep learning ai it makes interactions with technology more natural real and meaningful plus you can even simulate conversations with people and things that are not really there for example if you wanted to know how sundar chai spends his day you could simply ask well sundar pachai on your device you could even simulate a conversation with a paper plane or let pluto defend itself on being or not being an actual planet with google sycamore it's a whole new game of bringing in a new way of processing data that our current computers aren't used to google recently achieved quantum supremacy by performing calculations on its quantum computer called sycamore however sundar and the team are constantly working on developing an error-corrected quantum computer with enough quantum bits that will be able to surpass the computational power of the universe in theory we'd be able to solve complex problems on drugs financial analysis and security office and lunch sundar's office space has been described as being clean to the point of being spartan this is important as it eliminates clutter thereby reducing the amount of things that you can possibly be distracted by it's kind of similar to mark zuckerberg's decision to wear just great t-shirts jeans and sneakers every day to work according to mark it helps him have fewer decisions to make so that he can actually focus on the most important ones and we can see that it works for both mark and sundar when it comes to lunch as a vegetarian sundar is also a nice guy to animals except you know when he eats their unborn babies in the morning evening routine when sundar is done with work he heads straight home and unlike a lot of the richest ceos in the world he makes it a rule not to take work home in fact he doesn't test google prototypes in his home as well i i do the prototypes that work try to keep things simple at home his home is an almost ten thousand square foot mansion situated on just over three acres of land in los altos hills california observers have called the house modest for someone of his caliber but we're sure sundar is satisfied with his infinity pool and other amazing features of the house that he and his family can enjoy and sometimes he also engages in some of his favorite recreational activities like cricket and soccer he has said that when he does any workout he does it at night when he's back from work he lives in the home with his wife anjali pichai and their two kids oh and they have a dog named jeffrey too sundar strives to get back home to tuck his kids in every night by himself this is a promise he made to himself back in 2015. when he's done for the day sundar goes to sleep\""
      ]
     },
     "execution_count": 6,
     "metadata": {},
     "output_type": "execute_result"
    }
   ],
   "source": [
    "subtitle"
   ]
  },
  {
   "cell_type": "code",
   "execution_count": 7,
   "id": "fc64dd29",
   "metadata": {},
   "outputs": [],
   "source": [
    "sentences = sent_tokenize(subtitle)"
   ]
  },
  {
   "cell_type": "code",
   "execution_count": 8,
   "id": "502c4ca0",
   "metadata": {},
   "outputs": [
    {
     "data": {
      "text/plain": [
       "\"after joining google in 2004 sundar pachai became the chief executive officer of google in 2015. after the creation of alphabet google's parent group it took sundar just four years to become the chief executive officer of alphabet despite his meteoric rise from the populist city of chennai in india to the height of the tech industry sundar has still managed to be one of the most liked ceos in silicon valley in this video we'll be looking at what a day and sundar pichai's life looks like and maybe just maybe we'll see why he has a 96 approval rating on glassdoor and is known as the mr nice guy of silicon valley you're a nice guy welcome back to our channel if you haven't already make sure you hit the subscribe button and ring that bell so you're notified every time we upload a new video morning routines the sun rises sundar wakes up between 6 30 and 7 a.m in the morning this is just around elon musk's and mark zuckerberg 7 a.m and 8 a.m respective wake-up times but it's not as early as jeff bezos and tim cook who wake up by 5 am and 3 45 am respectively compared to tim cook sundar pichai's 7 am wake up time is pretty fair and pretty normal what's not normal though is the ceo of alphabet the company that's supposed to lead us into the paperless age reading his news from a newspaper every morning that's right mr sundar reaches for a print copy of the daily wall street journal to digest business news and updates however he does also check the new york times online as well next he takes his breakfast which is usually an omelet seems pretty basic or boring but the natural combination of nutrients like choline tryptophan vitamin b12 and iron all help in reducing anxiety risk and depression as well as aiding sleep not to mention it helps with weight management so it's no wonder that sundar has a healthy slim build and is in a good state of mind to run one of the most important companies in the history of humanity he also adds that he likes to maintain his very english habit of drinking a cup of tea in the morning this english habit being the effect of indian colonization by the british according to pachai i'm not a morning person so i need my time with my paper and tea to wake up and kind of get going so he doesn't work out in the morning instead he picks out a casual but put together outfit that has once been described as banana republic dad meetings unlike elon musk who has strict restrictions on his meetings or jeff bezos who likes to have his meetings only in the morning sundar pachai is always ready to attend meetings that are necessary in fact he sometimes takes meetings on the go when he can it is said that he can wander away during a meeting if a problem that needs solving is posed only to come back in a short time with a solution that the team can discuss this is because sundar claims that he loves to pace when working on something i love to pace and actually to think i have to start walking apparently during meetings he has the habit of keeping quiet and waiting for everyone to speak while he listens at the end of the comments he then throws out ideas that people could work on interaction with work and employees sundar pichai's meeting style of listening before talking is just a reflection of his leadership style which everyone loves in fact an ex-google employee martine huffed who worked as a technical program manager under the sundar run android department had this to say if there's anybody that could take over a ceo one day i would see sundar as being a great choice for doing that that was in 2014 just a year before sundar pachai actually got appointed as the ceo of google hoofed explained this by comparing sundar with the former ceos saying that larry is not afraid of setting an audacious goal whereas i think sundar is more of a great operator he can assemble the team he can appoint the right people and he's the one that makes it happen that's not to say that sundar doesn't have any product vision current projects and we do know that sundar does have product vision simply by recalling some of the new features that were discussed in google's io keynote in may 2021 this includes improvements to the google search bar and its function as well as their research and development interests in things like lambda ai and sycamore google's quantum computer lambda ai stands for language model for dialogue applications and is built on the novel neural network for language understanding called transformer using deep learning ai it makes interactions with technology more natural real and meaningful plus you can even simulate conversations with people and things that are not really there for example if you wanted to know how sundar chai spends his day you could simply ask well sundar pachai on your device you could even simulate a conversation with a paper plane or let pluto defend itself on being or not being an actual planet with google sycamore it's a whole new game of bringing in a new way of processing data that our current computers aren't used to google recently achieved quantum supremacy by performing calculations on its quantum computer called sycamore however sundar and the team are constantly working on developing an error-corrected quantum computer with enough quantum bits that will be able to surpass the computational power of the universe in theory we'd be able to solve complex problems on drugs financial analysis and security office and lunch sundar's office space has been described as being clean to the point of being spartan this is important as it eliminates clutter thereby reducing the amount of things that you can possibly be distracted by it's kind of similar to mark zuckerberg's decision to wear just great t-shirts jeans and sneakers every day to work according to mark it helps him have fewer decisions to make so that he can actually focus on the most important ones and we can see that it works for both mark and sundar when it comes to lunch as a vegetarian sundar is also a nice guy to animals except you know when he eats their unborn babies in the morning evening routine when sundar is done with work he heads straight home and unlike a lot of the richest ceos in the world he makes it a rule not to take work home in fact he doesn't test google prototypes in his home as well i i do the prototypes that work try to keep things simple at home his home is an almost ten thousand square foot mansion situated on just over three acres of land in los altos hills california observers have called the house modest for someone of his caliber but we're sure sundar is satisfied with his infinity pool and other amazing features of the house that he and his family can enjoy and sometimes he also engages in some of his favorite recreational activities like cricket and soccer he has said that when he does any workout he does it at night when he's back from work he lives in the home with his wife anjali pichai and their two kids oh and they have a dog named jeffrey too sundar strives to get back home to tuck his kids in every night by himself this is a promise he made to himself back in 2015. when he's done for the day sundar goes to sleep\""
      ]
     },
     "execution_count": 8,
     "metadata": {},
     "output_type": "execute_result"
    }
   ],
   "source": [
    "subtitle"
   ]
  },
  {
   "cell_type": "code",
   "execution_count": 9,
   "id": "e05830c0",
   "metadata": {},
   "outputs": [
    {
     "name": "stdout",
     "output_type": "stream",
     "text": [
      "7165\n"
     ]
    }
   ],
   "source": [
    "c = 0\n",
    "for word in subtitle:\n",
    "    c+=1\n",
    "    \n",
    "print(c)"
   ]
  },
  {
   "cell_type": "code",
   "execution_count": 10,
   "id": "0c443b96",
   "metadata": {},
   "outputs": [],
   "source": [
    "#pip install transformers"
   ]
  },
  {
   "cell_type": "code",
   "execution_count": 11,
   "id": "23d943be",
   "metadata": {},
   "outputs": [
    {
     "name": "stdout",
     "output_type": "stream",
     "text": [
      "[\"After joining google in 2004 sundar pachai became the chief executive officer of google in 2015. Despite his meteoric rise from the populist city of chennai in india to the height of the tech industry sundar has still managed to be one of the most liked ceos in silicon valley. In this video we'll be looking at what a day and sundarpachai's life looks like and maybe just maybe we'll see why he has a 96 approval rating on glassdoor and is known as the mr nice guy of silicon valley you're a nice guy welcome back to our channel if you haven't already make sure you hit the subscribe button and ring that bell so you're notified every time we upload a new video morning routines the sun rises sundar wakes up between 6 30 and 7 a.m in the morning this is just around elon musk's and mark zuckerberg 7A.m and 8 a.M respective wake-up times but it's not as early as jeff bezos and tim cook who wake up by 5 am and 3 45 am respectively compared to tim cook. We know that sundar doesn't have any product vision current projects and we know that he does have product vision in may things like ai's quantum computer model for language applications and sycamore for language understanding. If you wanted to know how sundar chai spends his day simply ask him simply on your device you could even simulate a conversation with your device or let your pluto defend itself on a plane or let it defend itself against an actual planet or even let your car defend itself from being attacked by an asteroid or a nuclear warhead. He also takes his breakfast which is usually an omelet which is pretty basic or boring but the natural combination of nutrients like choline tryptophan vitamin b12 and iron all help in reducing anxiety risk and depression as well as aiding sleep.\"]\n"
     ]
    }
   ],
   "source": [
    "from transformers import BartTokenizer, BartForConditionalGeneration\n",
    "\n",
    "model = BartForConditionalGeneration.from_pretrained(\"facebook/bart-large-cnn\")\n",
    "tokenizer = BartTokenizer.from_pretrained(\"facebook/bart-large-cnn\")\n",
    "\n",
    "inputs = tokenizer.encode( subtitle, max_length=1024, return_tensors=\"pt\", truncation=True)\n",
    "# Generate Summary\n",
    "summary_ids = model.generate(inputs, num_beams=4, max_length=int(c*0.1), min_length=int(c*0.05), length_penalty=2.0)\n",
    "print(tokenizer.batch_decode(summary_ids, skip_special_tokens=True, clean_up_tokenization_spaces=False))"
   ]
  }
 ],
 "metadata": {
  "kernelspec": {
   "display_name": "Python 3",
   "language": "python",
   "name": "python3"
  },
  "language_info": {
   "codemirror_mode": {
    "name": "ipython",
    "version": 3
   },
   "file_extension": ".py",
   "mimetype": "text/x-python",
   "name": "python",
   "nbconvert_exporter": "python",
   "pygments_lexer": "ipython3",
   "version": "3.8.8"
  }
 },
 "nbformat": 4,
 "nbformat_minor": 5
}
