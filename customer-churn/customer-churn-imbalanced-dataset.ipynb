{
 "cells": [
  {
   "cell_type": "code",
   "execution_count": 1,
   "id": "42f2a474",
   "metadata": {},
   "outputs": [],
   "source": [
    "import numpy as np\n",
    "import pandas as pd\n",
    "import matplotlib.pyplot as plt"
   ]
  },
  {
   "cell_type": "code",
   "execution_count": 2,
   "id": "e471d89c",
   "metadata": {},
   "outputs": [
    {
     "data": {
      "text/html": [
       "<div>\n",
       "<style scoped>\n",
       "    .dataframe tbody tr th:only-of-type {\n",
       "        vertical-align: middle;\n",
       "    }\n",
       "\n",
       "    .dataframe tbody tr th {\n",
       "        vertical-align: top;\n",
       "    }\n",
       "\n",
       "    .dataframe thead th {\n",
       "        text-align: right;\n",
       "    }\n",
       "</style>\n",
       "<table border=\"1\" class=\"dataframe\">\n",
       "  <thead>\n",
       "    <tr style=\"text-align: right;\">\n",
       "      <th></th>\n",
       "      <th>customerID</th>\n",
       "      <th>gender</th>\n",
       "      <th>SeniorCitizen</th>\n",
       "      <th>Partner</th>\n",
       "      <th>Dependents</th>\n",
       "      <th>tenure</th>\n",
       "      <th>PhoneService</th>\n",
       "      <th>MultipleLines</th>\n",
       "      <th>InternetService</th>\n",
       "      <th>OnlineSecurity</th>\n",
       "      <th>...</th>\n",
       "      <th>DeviceProtection</th>\n",
       "      <th>TechSupport</th>\n",
       "      <th>StreamingTV</th>\n",
       "      <th>StreamingMovies</th>\n",
       "      <th>Contract</th>\n",
       "      <th>PaperlessBilling</th>\n",
       "      <th>PaymentMethod</th>\n",
       "      <th>MonthlyCharges</th>\n",
       "      <th>TotalCharges</th>\n",
       "      <th>Churn</th>\n",
       "    </tr>\n",
       "  </thead>\n",
       "  <tbody>\n",
       "    <tr>\n",
       "      <th>0</th>\n",
       "      <td>7590-VHVEG</td>\n",
       "      <td>Female</td>\n",
       "      <td>0</td>\n",
       "      <td>Yes</td>\n",
       "      <td>No</td>\n",
       "      <td>1</td>\n",
       "      <td>No</td>\n",
       "      <td>No phone service</td>\n",
       "      <td>DSL</td>\n",
       "      <td>No</td>\n",
       "      <td>...</td>\n",
       "      <td>No</td>\n",
       "      <td>No</td>\n",
       "      <td>No</td>\n",
       "      <td>No</td>\n",
       "      <td>Month-to-month</td>\n",
       "      <td>Yes</td>\n",
       "      <td>Electronic check</td>\n",
       "      <td>29.85</td>\n",
       "      <td>29.85</td>\n",
       "      <td>No</td>\n",
       "    </tr>\n",
       "    <tr>\n",
       "      <th>1</th>\n",
       "      <td>5575-GNVDE</td>\n",
       "      <td>Male</td>\n",
       "      <td>0</td>\n",
       "      <td>No</td>\n",
       "      <td>No</td>\n",
       "      <td>34</td>\n",
       "      <td>Yes</td>\n",
       "      <td>No</td>\n",
       "      <td>DSL</td>\n",
       "      <td>Yes</td>\n",
       "      <td>...</td>\n",
       "      <td>Yes</td>\n",
       "      <td>No</td>\n",
       "      <td>No</td>\n",
       "      <td>No</td>\n",
       "      <td>One year</td>\n",
       "      <td>No</td>\n",
       "      <td>Mailed check</td>\n",
       "      <td>56.95</td>\n",
       "      <td>1889.5</td>\n",
       "      <td>No</td>\n",
       "    </tr>\n",
       "    <tr>\n",
       "      <th>2</th>\n",
       "      <td>3668-QPYBK</td>\n",
       "      <td>Male</td>\n",
       "      <td>0</td>\n",
       "      <td>No</td>\n",
       "      <td>No</td>\n",
       "      <td>2</td>\n",
       "      <td>Yes</td>\n",
       "      <td>No</td>\n",
       "      <td>DSL</td>\n",
       "      <td>Yes</td>\n",
       "      <td>...</td>\n",
       "      <td>No</td>\n",
       "      <td>No</td>\n",
       "      <td>No</td>\n",
       "      <td>No</td>\n",
       "      <td>Month-to-month</td>\n",
       "      <td>Yes</td>\n",
       "      <td>Mailed check</td>\n",
       "      <td>53.85</td>\n",
       "      <td>108.15</td>\n",
       "      <td>Yes</td>\n",
       "    </tr>\n",
       "    <tr>\n",
       "      <th>3</th>\n",
       "      <td>7795-CFOCW</td>\n",
       "      <td>Male</td>\n",
       "      <td>0</td>\n",
       "      <td>No</td>\n",
       "      <td>No</td>\n",
       "      <td>45</td>\n",
       "      <td>No</td>\n",
       "      <td>No phone service</td>\n",
       "      <td>DSL</td>\n",
       "      <td>Yes</td>\n",
       "      <td>...</td>\n",
       "      <td>Yes</td>\n",
       "      <td>Yes</td>\n",
       "      <td>No</td>\n",
       "      <td>No</td>\n",
       "      <td>One year</td>\n",
       "      <td>No</td>\n",
       "      <td>Bank transfer (automatic)</td>\n",
       "      <td>42.30</td>\n",
       "      <td>1840.75</td>\n",
       "      <td>No</td>\n",
       "    </tr>\n",
       "    <tr>\n",
       "      <th>4</th>\n",
       "      <td>9237-HQITU</td>\n",
       "      <td>Female</td>\n",
       "      <td>0</td>\n",
       "      <td>No</td>\n",
       "      <td>No</td>\n",
       "      <td>2</td>\n",
       "      <td>Yes</td>\n",
       "      <td>No</td>\n",
       "      <td>Fiber optic</td>\n",
       "      <td>No</td>\n",
       "      <td>...</td>\n",
       "      <td>No</td>\n",
       "      <td>No</td>\n",
       "      <td>No</td>\n",
       "      <td>No</td>\n",
       "      <td>Month-to-month</td>\n",
       "      <td>Yes</td>\n",
       "      <td>Electronic check</td>\n",
       "      <td>70.70</td>\n",
       "      <td>151.65</td>\n",
       "      <td>Yes</td>\n",
       "    </tr>\n",
       "  </tbody>\n",
       "</table>\n",
       "<p>5 rows × 21 columns</p>\n",
       "</div>"
      ],
      "text/plain": [
       "   customerID  gender  SeniorCitizen Partner Dependents  tenure PhoneService  \\\n",
       "0  7590-VHVEG  Female              0     Yes         No       1           No   \n",
       "1  5575-GNVDE    Male              0      No         No      34          Yes   \n",
       "2  3668-QPYBK    Male              0      No         No       2          Yes   \n",
       "3  7795-CFOCW    Male              0      No         No      45           No   \n",
       "4  9237-HQITU  Female              0      No         No       2          Yes   \n",
       "\n",
       "      MultipleLines InternetService OnlineSecurity  ... DeviceProtection  \\\n",
       "0  No phone service             DSL             No  ...               No   \n",
       "1                No             DSL            Yes  ...              Yes   \n",
       "2                No             DSL            Yes  ...               No   \n",
       "3  No phone service             DSL            Yes  ...              Yes   \n",
       "4                No     Fiber optic             No  ...               No   \n",
       "\n",
       "  TechSupport StreamingTV StreamingMovies        Contract PaperlessBilling  \\\n",
       "0          No          No              No  Month-to-month              Yes   \n",
       "1          No          No              No        One year               No   \n",
       "2          No          No              No  Month-to-month              Yes   \n",
       "3         Yes          No              No        One year               No   \n",
       "4          No          No              No  Month-to-month              Yes   \n",
       "\n",
       "               PaymentMethod MonthlyCharges  TotalCharges Churn  \n",
       "0           Electronic check          29.85         29.85    No  \n",
       "1               Mailed check          56.95        1889.5    No  \n",
       "2               Mailed check          53.85        108.15   Yes  \n",
       "3  Bank transfer (automatic)          42.30       1840.75    No  \n",
       "4           Electronic check          70.70        151.65   Yes  \n",
       "\n",
       "[5 rows x 21 columns]"
      ]
     },
     "execution_count": 2,
     "metadata": {},
     "output_type": "execute_result"
    }
   ],
   "source": [
    "df = pd.read_csv('data.csv')\n",
    "df.head()"
   ]
  },
  {
   "cell_type": "code",
   "execution_count": 3,
   "id": "6819e285",
   "metadata": {},
   "outputs": [
    {
     "data": {
      "text/plain": [
       "(7043, 21)"
      ]
     },
     "execution_count": 3,
     "metadata": {},
     "output_type": "execute_result"
    }
   ],
   "source": [
    "df.shape"
   ]
  },
  {
   "cell_type": "code",
   "execution_count": 4,
   "id": "cc24be1f",
   "metadata": {},
   "outputs": [
    {
     "data": {
      "text/plain": [
       "customerID           object\n",
       "gender               object\n",
       "SeniorCitizen         int64\n",
       "Partner              object\n",
       "Dependents           object\n",
       "tenure                int64\n",
       "PhoneService         object\n",
       "MultipleLines        object\n",
       "InternetService      object\n",
       "OnlineSecurity       object\n",
       "OnlineBackup         object\n",
       "DeviceProtection     object\n",
       "TechSupport          object\n",
       "StreamingTV          object\n",
       "StreamingMovies      object\n",
       "Contract             object\n",
       "PaperlessBilling     object\n",
       "PaymentMethod        object\n",
       "MonthlyCharges      float64\n",
       "TotalCharges         object\n",
       "Churn                object\n",
       "dtype: object"
      ]
     },
     "execution_count": 4,
     "metadata": {},
     "output_type": "execute_result"
    }
   ],
   "source": [
    "df.dtypes"
   ]
  },
  {
   "cell_type": "code",
   "execution_count": 5,
   "id": "31559a43",
   "metadata": {},
   "outputs": [],
   "source": [
    "df = df.drop('customerID',axis='columns')"
   ]
  },
  {
   "cell_type": "code",
   "execution_count": 6,
   "id": "5f5b61d4",
   "metadata": {},
   "outputs": [
    {
     "data": {
      "text/plain": [
       "gender              0\n",
       "SeniorCitizen       0\n",
       "Partner             0\n",
       "Dependents          0\n",
       "tenure              0\n",
       "PhoneService        0\n",
       "MultipleLines       0\n",
       "InternetService     0\n",
       "OnlineSecurity      0\n",
       "OnlineBackup        0\n",
       "DeviceProtection    0\n",
       "TechSupport         0\n",
       "StreamingTV         0\n",
       "StreamingMovies     0\n",
       "Contract            0\n",
       "PaperlessBilling    0\n",
       "PaymentMethod       0\n",
       "MonthlyCharges      0\n",
       "TotalCharges        0\n",
       "Churn               0\n",
       "dtype: int64"
      ]
     },
     "execution_count": 6,
     "metadata": {},
     "output_type": "execute_result"
    }
   ],
   "source": [
    "df.isnull().sum()"
   ]
  },
  {
   "cell_type": "code",
   "execution_count": 7,
   "id": "34ecceae",
   "metadata": {},
   "outputs": [
    {
     "ename": "ValueError",
     "evalue": "Unable to parse string \" \" at position 488",
     "output_type": "error",
     "traceback": [
      "\u001b[0;31m---------------------------------------------------------------------------\u001b[0m",
      "\u001b[0;31mValueError\u001b[0m                                Traceback (most recent call last)",
      "\u001b[0;32mpandas/_libs/lib.pyx\u001b[0m in \u001b[0;36mpandas._libs.lib.maybe_convert_numeric\u001b[0;34m()\u001b[0m\n",
      "\u001b[0;31mValueError\u001b[0m: Unable to parse string \" \"",
      "\nDuring handling of the above exception, another exception occurred:\n",
      "\u001b[0;31mValueError\u001b[0m                                Traceback (most recent call last)",
      "\u001b[0;32m<ipython-input-7-06ba430a4ba5>\u001b[0m in \u001b[0;36m<module>\u001b[0;34m\u001b[0m\n\u001b[0;32m----> 1\u001b[0;31m \u001b[0mpd\u001b[0m\u001b[0;34m.\u001b[0m\u001b[0mto_numeric\u001b[0m\u001b[0;34m(\u001b[0m\u001b[0mdf\u001b[0m\u001b[0;34m.\u001b[0m\u001b[0mTotalCharges\u001b[0m\u001b[0;34m)\u001b[0m\u001b[0;34m\u001b[0m\u001b[0;34m\u001b[0m\u001b[0m\n\u001b[0m",
      "\u001b[0;32m/Applications/anaconda3/lib/python3.8/site-packages/pandas/core/tools/numeric.py\u001b[0m in \u001b[0;36mto_numeric\u001b[0;34m(arg, errors, downcast)\u001b[0m\n\u001b[1;32m    152\u001b[0m         \u001b[0mcoerce_numeric\u001b[0m \u001b[0;34m=\u001b[0m \u001b[0merrors\u001b[0m \u001b[0;32mnot\u001b[0m \u001b[0;32min\u001b[0m \u001b[0;34m(\u001b[0m\u001b[0;34m\"ignore\"\u001b[0m\u001b[0;34m,\u001b[0m \u001b[0;34m\"raise\"\u001b[0m\u001b[0;34m)\u001b[0m\u001b[0;34m\u001b[0m\u001b[0;34m\u001b[0m\u001b[0m\n\u001b[1;32m    153\u001b[0m         \u001b[0;32mtry\u001b[0m\u001b[0;34m:\u001b[0m\u001b[0;34m\u001b[0m\u001b[0;34m\u001b[0m\u001b[0m\n\u001b[0;32m--> 154\u001b[0;31m             values = lib.maybe_convert_numeric(\n\u001b[0m\u001b[1;32m    155\u001b[0m                 \u001b[0mvalues\u001b[0m\u001b[0;34m,\u001b[0m \u001b[0mset\u001b[0m\u001b[0;34m(\u001b[0m\u001b[0;34m)\u001b[0m\u001b[0;34m,\u001b[0m \u001b[0mcoerce_numeric\u001b[0m\u001b[0;34m=\u001b[0m\u001b[0mcoerce_numeric\u001b[0m\u001b[0;34m\u001b[0m\u001b[0;34m\u001b[0m\u001b[0m\n\u001b[1;32m    156\u001b[0m             )\n",
      "\u001b[0;32mpandas/_libs/lib.pyx\u001b[0m in \u001b[0;36mpandas._libs.lib.maybe_convert_numeric\u001b[0;34m()\u001b[0m\n",
      "\u001b[0;31mValueError\u001b[0m: Unable to parse string \" \" at position 488"
     ]
    }
   ],
   "source": [
    "pd.to_numeric(df.TotalCharges)"
   ]
  },
  {
   "cell_type": "code",
   "execution_count": 9,
   "id": "3c826529",
   "metadata": {},
   "outputs": [
    {
     "data": {
      "text/plain": [
       "485    6130.85\n",
       "486       1415\n",
       "487    6201.95\n",
       "488           \n",
       "489      74.35\n",
       "Name: TotalCharges, dtype: object"
      ]
     },
     "execution_count": 9,
     "metadata": {},
     "output_type": "execute_result"
    }
   ],
   "source": [
    "df.iloc[485:490,:].TotalCharges"
   ]
  },
  {
   "cell_type": "code",
   "execution_count": 10,
   "id": "dee2c6f5",
   "metadata": {},
   "outputs": [
    {
     "data": {
      "text/plain": [
       "11"
      ]
     },
     "execution_count": 10,
     "metadata": {},
     "output_type": "execute_result"
    }
   ],
   "source": [
    "# replace all non-numeric values with NaN\n",
    "\n",
    "pd.to_numeric(df.TotalCharges,errors='coerce').isnull().sum()"
   ]
  },
  {
   "cell_type": "code",
   "execution_count": 11,
   "id": "cf86ea64",
   "metadata": {},
   "outputs": [
    {
     "data": {
      "text/plain": [
       "(7032, 20)"
      ]
     },
     "execution_count": 11,
     "metadata": {},
     "output_type": "execute_result"
    }
   ],
   "source": [
    "df[df.TotalCharges!=' '].shape"
   ]
  },
  {
   "cell_type": "code",
   "execution_count": 12,
   "id": "3b1d21d6",
   "metadata": {},
   "outputs": [
    {
     "data": {
      "text/plain": [
       "(7043, 20)"
      ]
     },
     "execution_count": 12,
     "metadata": {},
     "output_type": "execute_result"
    }
   ],
   "source": [
    "df.shape"
   ]
  },
  {
   "cell_type": "code",
   "execution_count": 13,
   "id": "7d03ab26",
   "metadata": {},
   "outputs": [],
   "source": [
    "df = df.drop(df[df.TotalCharges==\" \"].index)"
   ]
  },
  {
   "cell_type": "code",
   "execution_count": 14,
   "id": "6a82fb18",
   "metadata": {},
   "outputs": [
    {
     "data": {
      "text/plain": [
       "(7032, 20)"
      ]
     },
     "execution_count": 14,
     "metadata": {},
     "output_type": "execute_result"
    }
   ],
   "source": [
    "df.shape"
   ]
  },
  {
   "cell_type": "code",
   "execution_count": 15,
   "id": "ce3257c5",
   "metadata": {},
   "outputs": [
    {
     "data": {
      "text/plain": [
       "0         29.85\n",
       "1       1889.50\n",
       "2        108.15\n",
       "3       1840.75\n",
       "4        151.65\n",
       "         ...   \n",
       "7038    1990.50\n",
       "7039    7362.90\n",
       "7040     346.45\n",
       "7041     306.60\n",
       "7042    6844.50\n",
       "Name: TotalCharges, Length: 7032, dtype: float64"
      ]
     },
     "execution_count": 15,
     "metadata": {},
     "output_type": "execute_result"
    }
   ],
   "source": [
    "pd.to_numeric(df.TotalCharges)"
   ]
  },
  {
   "cell_type": "code",
   "execution_count": 16,
   "id": "efb25d98",
   "metadata": {},
   "outputs": [],
   "source": [
    "tenure_no = df[df.Churn=='No'].tenure\n",
    "tenure_yes = df[df.Churn=='Yes'].tenure"
   ]
  },
  {
   "cell_type": "code",
   "execution_count": 17,
   "id": "738d465e",
   "metadata": {},
   "outputs": [
    {
     "data": {
      "text/plain": [
       "Text(0.5, 1.0, 'Customer Churn Prediction Visualiztion')"
      ]
     },
     "execution_count": 17,
     "metadata": {},
     "output_type": "execute_result"
    },
    {
     "data": {
      "image/png": "[encoded data removed]",
      "text/plain": [
       "<Figure size 432x288 with 1 Axes>"
      ]
     },
     "metadata": {
      "needs_background": "light"
     },
     "output_type": "display_data"
    }
   ],
   "source": [
    "plt.hist([tenure_yes, tenure_no], label=['Churn=Yes','Churn=No'])\n",
    "plt.legend()\n",
    "plt.xlabel(\"tenure\")\n",
    "plt.ylabel(\"Number Of Customers\")\n",
    "plt.title(\"Customer Churn Prediction Visualiztion\")"
   ]
  },
  {
   "cell_type": "code",
   "execution_count": 18,
   "id": "a9fbb75d",
   "metadata": {},
   "outputs": [],
   "source": [
    "def print_unique_col_values(df):\n",
    "       for column in df:\n",
    "            if df[column].dtypes=='object':\n",
    "                print(f'{column}: {df[column].unique()}') "
   ]
  },
  {
   "cell_type": "code",
   "execution_count": 19,
   "id": "5740a895",
   "metadata": {},
   "outputs": [
    {
     "name": "stdout",
     "output_type": "stream",
     "text": [
      "gender: ['Female' 'Male']\n",
      "Partner: ['Yes' 'No']\n",
      "Dependents: ['No' 'Yes']\n",
      "PhoneService: ['No' 'Yes']\n",
      "MultipleLines: ['No phone service' 'No' 'Yes']\n",
      "InternetService: ['DSL' 'Fiber optic' 'No']\n",
      "OnlineSecurity: ['No' 'Yes' 'No internet service']\n",
      "OnlineBackup: ['Yes' 'No' 'No internet service']\n",
      "DeviceProtection: ['No' 'Yes' 'No internet service']\n",
      "TechSupport: ['No' 'Yes' 'No internet service']\n",
      "StreamingTV: ['No' 'Yes' 'No internet service']\n",
      "StreamingMovies: ['No' 'Yes' 'No internet service']\n",
      "Contract: ['Month-to-month' 'One year' 'Two year']\n",
      "PaperlessBilling: ['Yes' 'No']\n",
      "PaymentMethod: ['Electronic check' 'Mailed check' 'Bank transfer (automatic)'\n",
      " 'Credit card (automatic)']\n",
      "TotalCharges: ['29.85' '1889.5' '108.15' ... '346.45' '306.6' '6844.5']\n",
      "Churn: ['No' 'Yes']\n"
     ]
    }
   ],
   "source": [
    "print_unique_col_values(df)"
   ]
  },
  {
   "cell_type": "code",
   "execution_count": 20,
   "id": "b910aa3f",
   "metadata": {},
   "outputs": [],
   "source": [
    "df.replace('No internet service','No',inplace=True)\n",
    "df.replace('No phone service','No',inplace=True)"
   ]
  },
  {
   "cell_type": "code",
   "execution_count": 21,
   "id": "4fa54e55",
   "metadata": {},
   "outputs": [
    {
     "name": "stdout",
     "output_type": "stream",
     "text": [
      "gender: ['Female' 'Male']\n",
      "Partner: ['Yes' 'No']\n",
      "Dependents: ['No' 'Yes']\n",
      "PhoneService: ['No' 'Yes']\n",
      "MultipleLines: ['No' 'Yes']\n",
      "InternetService: ['DSL' 'Fiber optic' 'No']\n",
      "OnlineSecurity: ['No' 'Yes']\n",
      "OnlineBackup: ['Yes' 'No']\n",
      "DeviceProtection: ['No' 'Yes']\n",
      "TechSupport: ['No' 'Yes']\n",
      "StreamingTV: ['No' 'Yes']\n",
      "StreamingMovies: ['No' 'Yes']\n",
      "Contract: ['Month-to-month' 'One year' 'Two year']\n",
      "PaperlessBilling: ['Yes' 'No']\n",
      "PaymentMethod: ['Electronic check' 'Mailed check' 'Bank transfer (automatic)'\n",
      " 'Credit card (automatic)']\n",
      "TotalCharges: ['29.85' '1889.5' '108.15' ... '346.45' '306.6' '6844.5']\n",
      "Churn: ['No' 'Yes']\n"
     ]
    }
   ],
   "source": [
    "print_unique_col_values(df)"
   ]
  },
  {
   "cell_type": "code",
   "execution_count": 22,
   "id": "3c38bc90",
   "metadata": {},
   "outputs": [],
   "source": [
    "yes_no_columns = ['Partner','Dependents','PhoneService','MultipleLines','OnlineSecurity','OnlineBackup',\n",
    "                  'DeviceProtection','TechSupport','StreamingTV','StreamingMovies','PaperlessBilling','Churn']\n",
    "for col in yes_no_columns:\n",
    "    df[col].replace({'Yes': 1,'No': 0},inplace=True)"
   ]
  },
  {
   "cell_type": "code",
   "execution_count": 23,
   "id": "a71233cc",
   "metadata": {},
   "outputs": [
    {
     "name": "stdout",
     "output_type": "stream",
     "text": [
      "gender: ['Female' 'Male']\n",
      "SeniorCitizen: [0 1]\n",
      "Partner: [1 0]\n",
      "Dependents: [0 1]\n",
      "tenure: [ 1 34  2 45  8 22 10 28 62 13 16 58 49 25 69 52 71 21 12 30 47 72 17 27\n",
      "  5 46 11 70 63 43 15 60 18 66  9  3 31 50 64 56  7 42 35 48 29 65 38 68\n",
      " 32 55 37 36 41  6  4 33 67 23 57 61 14 20 53 40 59 24 44 19 54 51 26 39]\n",
      "PhoneService: [0 1]\n",
      "MultipleLines: [0 1]\n",
      "InternetService: ['DSL' 'Fiber optic' 'No']\n",
      "OnlineSecurity: [0 1]\n",
      "OnlineBackup: [1 0]\n",
      "DeviceProtection: [0 1]\n",
      "TechSupport: [0 1]\n",
      "StreamingTV: [0 1]\n",
      "StreamingMovies: [0 1]\n",
      "Contract: ['Month-to-month' 'One year' 'Two year']\n",
      "PaperlessBilling: [1 0]\n",
      "PaymentMethod: ['Electronic check' 'Mailed check' 'Bank transfer (automatic)'\n",
      " 'Credit card (automatic)']\n",
      "MonthlyCharges: [29.85 56.95 53.85 ... 63.1  44.2  78.7 ]\n",
      "TotalCharges: ['29.85' '1889.5' '108.15' ... '346.45' '306.6' '6844.5']\n",
      "Churn: [0 1]\n"
     ]
    }
   ],
   "source": [
    "for col in df:\n",
    "    print(f'{col}: {df[col].unique()}')"
   ]
  },
  {
   "cell_type": "code",
   "execution_count": 24,
   "id": "250ed631",
   "metadata": {},
   "outputs": [],
   "source": [
    "df['gender'].replace({'Female':1,'Male':0},inplace=True)"
   ]
  },
  {
   "cell_type": "code",
   "execution_count": 25,
   "id": "a74e2679",
   "metadata": {},
   "outputs": [
    {
     "data": {
      "text/plain": [
       "Index(['gender', 'SeniorCitizen', 'Partner', 'Dependents', 'tenure',\n",
       "       'PhoneService', 'MultipleLines', 'OnlineSecurity', 'OnlineBackup',\n",
       "       'DeviceProtection', 'TechSupport', 'StreamingTV', 'StreamingMovies',\n",
       "       'PaperlessBilling', 'MonthlyCharges', 'TotalCharges', 'Churn',\n",
       "       'InternetService_DSL', 'InternetService_Fiber optic',\n",
       "       'InternetService_No', 'Contract_Month-to-month', 'Contract_One year',\n",
       "       'Contract_Two year', 'PaymentMethod_Bank transfer (automatic)',\n",
       "       'PaymentMethod_Credit card (automatic)',\n",
       "       'PaymentMethod_Electronic check', 'PaymentMethod_Mailed check'],\n",
       "      dtype='object')"
      ]
     },
     "execution_count": 25,
     "metadata": {},
     "output_type": "execute_result"
    }
   ],
   "source": [
    "df = pd.get_dummies(data=df, columns=['InternetService','Contract','PaymentMethod'])\n",
    "df.columns"
   ]
  },
  {
   "cell_type": "code",
   "execution_count": 26,
   "id": "c8abf6ae",
   "metadata": {},
   "outputs": [],
   "source": [
    "cols_to_scale = ['tenure','MonthlyCharges','TotalCharges']\n",
    "\n",
    "from sklearn.preprocessing import MinMaxScaler\n",
    "scaler = MinMaxScaler()\n",
    "df[cols_to_scale] = scaler.fit_transform(df[cols_to_scale])"
   ]
  },
  {
   "cell_type": "code",
   "execution_count": 27,
   "id": "5802d6e5",
   "metadata": {},
   "outputs": [
    {
     "name": "stdout",
     "output_type": "stream",
     "text": [
      "gender: [1 0]\n",
      "SeniorCitizen: [0 1]\n",
      "Partner: [1 0]\n",
      "Dependents: [0 1]\n",
      "tenure: [0.         0.46478873 0.01408451 0.61971831 0.09859155 0.29577465\n",
      " 0.12676056 0.38028169 0.85915493 0.16901408 0.21126761 0.8028169\n",
      " 0.67605634 0.33802817 0.95774648 0.71830986 0.98591549 0.28169014\n",
      " 0.15492958 0.4084507  0.64788732 1.         0.22535211 0.36619718\n",
      " 0.05633803 0.63380282 0.14084507 0.97183099 0.87323944 0.5915493\n",
      " 0.1971831  0.83098592 0.23943662 0.91549296 0.11267606 0.02816901\n",
      " 0.42253521 0.69014085 0.88732394 0.77464789 0.08450704 0.57746479\n",
      " 0.47887324 0.66197183 0.3943662  0.90140845 0.52112676 0.94366197\n",
      " 0.43661972 0.76056338 0.50704225 0.49295775 0.56338028 0.07042254\n",
      " 0.04225352 0.45070423 0.92957746 0.30985915 0.78873239 0.84507042\n",
      " 0.18309859 0.26760563 0.73239437 0.54929577 0.81690141 0.32394366\n",
      " 0.6056338  0.25352113 0.74647887 0.70422535 0.35211268 0.53521127]\n",
      "PhoneService: [0 1]\n",
      "MultipleLines: [0 1]\n",
      "OnlineSecurity: [0 1]\n",
      "OnlineBackup: [1 0]\n",
      "DeviceProtection: [0 1]\n",
      "TechSupport: [0 1]\n",
      "StreamingTV: [0 1]\n",
      "StreamingMovies: [0 1]\n",
      "PaperlessBilling: [1 0]\n",
      "MonthlyCharges: [0.11542289 0.38507463 0.35422886 ... 0.44626866 0.25820896 0.60149254]\n",
      "TotalCharges: [0.0012751  0.21586661 0.01031041 ... 0.03780868 0.03321025 0.78764136]\n",
      "Churn: [0 1]\n",
      "InternetService_DSL: [1 0]\n",
      "InternetService_Fiber optic: [0 1]\n",
      "InternetService_No: [0 1]\n",
      "Contract_Month-to-month: [1 0]\n",
      "Contract_One year: [0 1]\n",
      "Contract_Two year: [0 1]\n",
      "PaymentMethod_Bank transfer (automatic): [0 1]\n",
      "PaymentMethod_Credit card (automatic): [0 1]\n",
      "PaymentMethod_Electronic check: [1 0]\n",
      "PaymentMethod_Mailed check: [0 1]\n"
     ]
    }
   ],
   "source": [
    "for col in df:\n",
    "    print(f'{col}: {df[col].unique()}')"
   ]
  },
  {
   "cell_type": "code",
   "execution_count": 28,
   "id": "1b59a63c",
   "metadata": {},
   "outputs": [],
   "source": [
    "X = df.drop('Churn',axis='columns')\n",
    "y = df['Churn']"
   ]
  },
  {
   "cell_type": "code",
   "execution_count": 29,
   "id": "e156f4b3",
   "metadata": {},
   "outputs": [],
   "source": [
    "from sklearn.model_selection import train_test_split\n",
    "X_train, X_test, y_train, y_test = train_test_split(X,y,test_size=0.2)"
   ]
  },
  {
   "cell_type": "code",
   "execution_count": 30,
   "id": "d4797e13",
   "metadata": {},
   "outputs": [
    {
     "data": {
      "text/plain": [
       "(5625, 26)"
      ]
     },
     "execution_count": 30,
     "metadata": {},
     "output_type": "execute_result"
    }
   ],
   "source": [
    "X_train.shape"
   ]
  },
  {
   "cell_type": "code",
   "execution_count": 31,
   "id": "a425cbba",
   "metadata": {},
   "outputs": [
    {
     "data": {
      "text/plain": [
       "(1407, 26)"
      ]
     },
     "execution_count": 31,
     "metadata": {},
     "output_type": "execute_result"
    }
   ],
   "source": [
    "X_test.shape"
   ]
  },
  {
   "cell_type": "code",
   "execution_count": 32,
   "id": "17269bd3",
   "metadata": {},
   "outputs": [
    {
     "data": {
      "text/plain": [
       "26"
      ]
     },
     "execution_count": 32,
     "metadata": {},
     "output_type": "execute_result"
    }
   ],
   "source": [
    "len(X_train.columns)"
   ]
  },
  {
   "cell_type": "code",
   "execution_count": 33,
   "id": "94777163",
   "metadata": {},
   "outputs": [],
   "source": [
    "import tensorflow as tf\n",
    "from tensorflow import keras"
   ]
  },
  {
   "cell_type": "code",
   "execution_count": 34,
   "id": "5a17c6d6",
   "metadata": {},
   "outputs": [],
   "source": [
    "model = keras.Sequential([\n",
    "    keras.layers.Dense(26, input_shape=(26,), activation='relu'),\n",
    "    keras.layers.Dense(15, activation='relu'),\n",
    "    keras.layers.Dense(1, activation='sigmoid')\n",
    "])\n",
    "\n",
    "model.compile(optimizer='adam',\n",
    "              loss='binary_crossentropy',\n",
    "              metrics=['accuracy'])"
   ]
  },
  {
   "cell_type": "code",
   "execution_count": 35,
   "id": "9cd5ec88",
   "metadata": {},
   "outputs": [
    {
     "name": "stdout",
     "output_type": "stream",
     "text": [
      "Epoch 1/100\n",
      "176/176 [==============================] - 1s 896us/step - loss: 0.5162 - accuracy: 0.7392\n",
      "Epoch 2/100\n",
      "176/176 [==============================] - 0s 798us/step - loss: 0.4401 - accuracy: 0.7799\n",
      "Epoch 3/100\n",
      "176/176 [==============================] - 0s 801us/step - loss: 0.4339 - accuracy: 0.7884\n",
      "Epoch 4/100\n",
      "176/176 [==============================] - 0s 1ms/step - loss: 0.4291 - accuracy: 0.7909\n",
      "Epoch 5/100\n",
      "176/176 [==============================] - 0s 952us/step - loss: 0.4262 - accuracy: 0.7947\n",
      "Epoch 6/100\n",
      "176/176 [==============================] - 0s 778us/step - loss: 0.4240 - accuracy: 0.7980\n",
      "Epoch 7/100\n",
      "176/176 [==============================] - 0s 757us/step - loss: 0.4220 - accuracy: 0.7982\n",
      "Epoch 8/100\n",
      "176/176 [==============================] - 0s 744us/step - loss: 0.4207 - accuracy: 0.7993\n",
      "Epoch 9/100\n",
      "176/176 [==============================] - 0s 729us/step - loss: 0.4197 - accuracy: 0.8012\n",
      "Epoch 10/100\n",
      "176/176 [==============================] - 0s 1ms/step - loss: 0.4176 - accuracy: 0.8009\n",
      "Epoch 11/100\n",
      "176/176 [==============================] - 0s 1ms/step - loss: 0.4163 - accuracy: 0.8025\n",
      "Epoch 12/100\n",
      "176/176 [==============================] - 0s 1ms/step - loss: 0.4161 - accuracy: 0.7975\n",
      "Epoch 13/100\n",
      "176/176 [==============================] - 0s 1ms/step - loss: 0.4147 - accuracy: 0.8032\n",
      "Epoch 14/100\n",
      "176/176 [==============================] - 0s 946us/step - loss: 0.4131 - accuracy: 0.8041\n",
      "Epoch 15/100\n",
      "176/176 [==============================] - 0s 843us/step - loss: 0.4114 - accuracy: 0.8060\n",
      "Epoch 16/100\n",
      "176/176 [==============================] - 0s 906us/step - loss: 0.4102 - accuracy: 0.8053\n",
      "Epoch 17/100\n",
      "176/176 [==============================] - 0s 802us/step - loss: 0.4089 - accuracy: 0.8039\n",
      "Epoch 18/100\n",
      "176/176 [==============================] - 0s 773us/step - loss: 0.4083 - accuracy: 0.8048\n",
      "Epoch 19/100\n",
      "176/176 [==============================] - 0s 757us/step - loss: 0.4066 - accuracy: 0.8050\n",
      "Epoch 20/100\n",
      "176/176 [==============================] - 0s 773us/step - loss: 0.4061 - accuracy: 0.8041\n",
      "Epoch 21/100\n",
      "176/176 [==============================] - 0s 793us/step - loss: 0.4042 - accuracy: 0.8075\n",
      "Epoch 22/100\n",
      "176/176 [==============================] - 0s 759us/step - loss: 0.4036 - accuracy: 0.8069\n",
      "Epoch 23/100\n",
      "176/176 [==============================] - 0s 742us/step - loss: 0.4031 - accuracy: 0.8050\n",
      "Epoch 24/100\n",
      "176/176 [==============================] - 0s 750us/step - loss: 0.4017 - accuracy: 0.8075\n",
      "Epoch 25/100\n",
      "176/176 [==============================] - 0s 801us/step - loss: 0.4012 - accuracy: 0.8080\n",
      "Epoch 26/100\n",
      "176/176 [==============================] - 0s 764us/step - loss: 0.4008 - accuracy: 0.8059\n",
      "Epoch 27/100\n",
      "176/176 [==============================] - 0s 776us/step - loss: 0.3986 - accuracy: 0.8076\n",
      "Epoch 28/100\n",
      "176/176 [==============================] - 0s 823us/step - loss: 0.3989 - accuracy: 0.8084\n",
      "Epoch 29/100\n",
      "176/176 [==============================] - 0s 786us/step - loss: 0.3980 - accuracy: 0.8062\n",
      "Epoch 30/100\n",
      "176/176 [==============================] - 0s 790us/step - loss: 0.3972 - accuracy: 0.8076\n",
      "Epoch 31/100\n",
      "176/176 [==============================] - 0s 778us/step - loss: 0.3965 - accuracy: 0.8094\n",
      "Epoch 32/100\n",
      "176/176 [==============================] - 0s 801us/step - loss: 0.3963 - accuracy: 0.8094\n",
      "Epoch 33/100\n",
      "176/176 [==============================] - 0s 785us/step - loss: 0.3947 - accuracy: 0.8091\n",
      "Epoch 34/100\n",
      "176/176 [==============================] - 0s 787us/step - loss: 0.3943 - accuracy: 0.8069\n",
      "Epoch 35/100\n",
      "176/176 [==============================] - 0s 778us/step - loss: 0.3927 - accuracy: 0.8080\n",
      "Epoch 36/100\n",
      "176/176 [==============================] - 0s 816us/step - loss: 0.3911 - accuracy: 0.8121\n",
      "Epoch 37/100\n",
      "176/176 [==============================] - 0s 811us/step - loss: 0.3921 - accuracy: 0.8105\n",
      "Epoch 38/100\n",
      "176/176 [==============================] - 0s 785us/step - loss: 0.3909 - accuracy: 0.8096\n",
      "Epoch 39/100\n",
      "176/176 [==============================] - 0s 765us/step - loss: 0.3899 - accuracy: 0.8123\n",
      "Epoch 40/100\n",
      "176/176 [==============================] - 0s 781us/step - loss: 0.3903 - accuracy: 0.8114\n",
      "Epoch 41/100\n",
      "176/176 [==============================] - 0s 759us/step - loss: 0.3887 - accuracy: 0.8112\n",
      "Epoch 42/100\n",
      "176/176 [==============================] - 0s 789us/step - loss: 0.3888 - accuracy: 0.8123\n",
      "Epoch 43/100\n",
      "176/176 [==============================] - 0s 778us/step - loss: 0.3878 - accuracy: 0.8140\n",
      "Epoch 44/100\n",
      "176/176 [==============================] - 0s 804us/step - loss: 0.3883 - accuracy: 0.8119\n",
      "Epoch 45/100\n",
      "176/176 [==============================] - 0s 792us/step - loss: 0.3865 - accuracy: 0.8110\n",
      "Epoch 46/100\n",
      "176/176 [==============================] - 0s 815us/step - loss: 0.3866 - accuracy: 0.8162\n",
      "Epoch 47/100\n",
      "176/176 [==============================] - 0s 824us/step - loss: 0.3850 - accuracy: 0.8144\n",
      "Epoch 48/100\n",
      "176/176 [==============================] - 0s 871us/step - loss: 0.3849 - accuracy: 0.8140\n",
      "Epoch 49/100\n",
      "176/176 [==============================] - 0s 1ms/step - loss: 0.3848 - accuracy: 0.8128\n",
      "Epoch 50/100\n",
      "176/176 [==============================] - 0s 1ms/step - loss: 0.3834 - accuracy: 0.8160\n",
      "Epoch 51/100\n",
      "176/176 [==============================] - 0s 810us/step - loss: 0.3833 - accuracy: 0.8151\n",
      "Epoch 52/100\n",
      "176/176 [==============================] - 0s 819us/step - loss: 0.3827 - accuracy: 0.8151\n",
      "Epoch 53/100\n",
      "176/176 [==============================] - 0s 970us/step - loss: 0.3828 - accuracy: 0.8164\n",
      "Epoch 54/100\n",
      "176/176 [==============================] - 0s 822us/step - loss: 0.3811 - accuracy: 0.8142\n",
      "Epoch 55/100\n",
      "176/176 [==============================] - 0s 785us/step - loss: 0.3809 - accuracy: 0.8135\n",
      "Epoch 56/100\n",
      "176/176 [==============================] - 0s 751us/step - loss: 0.3806 - accuracy: 0.8156\n",
      "Epoch 57/100\n",
      "176/176 [==============================] - 0s 810us/step - loss: 0.3808 - accuracy: 0.8178\n",
      "Epoch 58/100\n",
      "176/176 [==============================] - 0s 773us/step - loss: 0.3799 - accuracy: 0.8165\n",
      "Epoch 59/100\n",
      "176/176 [==============================] - 0s 810us/step - loss: 0.3819 - accuracy: 0.8194\n",
      "Epoch 60/100\n",
      "176/176 [==============================] - 0s 800us/step - loss: 0.3797 - accuracy: 0.8162\n",
      "Epoch 61/100\n",
      "176/176 [==============================] - 0s 806us/step - loss: 0.3782 - accuracy: 0.8167\n",
      "Epoch 62/100\n",
      "176/176 [==============================] - 0s 777us/step - loss: 0.3774 - accuracy: 0.8187\n",
      "Epoch 63/100\n",
      "176/176 [==============================] - 0s 832us/step - loss: 0.3780 - accuracy: 0.8192\n",
      "Epoch 64/100\n",
      "176/176 [==============================] - 0s 823us/step - loss: 0.3789 - accuracy: 0.8176\n",
      "Epoch 65/100\n",
      "176/176 [==============================] - 0s 885us/step - loss: 0.3775 - accuracy: 0.8151\n",
      "Epoch 66/100\n",
      "176/176 [==============================] - 0s 1ms/step - loss: 0.3770 - accuracy: 0.8160\n",
      "Epoch 67/100\n",
      "176/176 [==============================] - 0s 1ms/step - loss: 0.3764 - accuracy: 0.8174\n",
      "Epoch 68/100\n",
      "176/176 [==============================] - 0s 975us/step - loss: 0.3755 - accuracy: 0.8199\n",
      "Epoch 69/100\n",
      "176/176 [==============================] - 0s 1ms/step - loss: 0.3749 - accuracy: 0.8208\n",
      "Epoch 70/100\n",
      "176/176 [==============================] - 0s 974us/step - loss: 0.3738 - accuracy: 0.8224\n",
      "Epoch 71/100\n",
      "176/176 [==============================] - 0s 1ms/step - loss: 0.3741 - accuracy: 0.8224\n",
      "Epoch 72/100\n",
      "176/176 [==============================] - 0s 852us/step - loss: 0.3734 - accuracy: 0.8226\n",
      "Epoch 73/100\n",
      "176/176 [==============================] - 0s 946us/step - loss: 0.3740 - accuracy: 0.8222\n",
      "Epoch 74/100\n",
      "176/176 [==============================] - 0s 1ms/step - loss: 0.3737 - accuracy: 0.8222\n",
      "Epoch 75/100\n",
      "176/176 [==============================] - 0s 1ms/step - loss: 0.3717 - accuracy: 0.8229\n",
      "Epoch 76/100\n",
      "176/176 [==============================] - 0s 1ms/step - loss: 0.3722 - accuracy: 0.8242\n",
      "Epoch 77/100\n",
      "176/176 [==============================] - 0s 953us/step - loss: 0.3720 - accuracy: 0.8235\n",
      "Epoch 78/100\n",
      "176/176 [==============================] - 0s 853us/step - loss: 0.3706 - accuracy: 0.8236\n",
      "Epoch 79/100\n",
      "176/176 [==============================] - 0s 1ms/step - loss: 0.3711 - accuracy: 0.8235\n",
      "Epoch 80/100\n"
     ]
    },
    {
     "name": "stdout",
     "output_type": "stream",
     "text": [
      "176/176 [==============================] - 0s 1ms/step - loss: 0.3701 - accuracy: 0.8217\n",
      "Epoch 81/100\n",
      "176/176 [==============================] - 0s 1ms/step - loss: 0.3715 - accuracy: 0.8208\n",
      "Epoch 82/100\n",
      "176/176 [==============================] - 0s 1ms/step - loss: 0.3693 - accuracy: 0.8219\n",
      "Epoch 83/100\n",
      "176/176 [==============================] - 0s 1ms/step - loss: 0.3687 - accuracy: 0.8220\n",
      "Epoch 84/100\n",
      "176/176 [==============================] - 0s 1ms/step - loss: 0.3689 - accuracy: 0.8220\n",
      "Epoch 85/100\n",
      "176/176 [==============================] - 0s 838us/step - loss: 0.3682 - accuracy: 0.8206\n",
      "Epoch 86/100\n",
      "176/176 [==============================] - 0s 803us/step - loss: 0.3696 - accuracy: 0.8249\n",
      "Epoch 87/100\n",
      "176/176 [==============================] - 0s 805us/step - loss: 0.3684 - accuracy: 0.8204\n",
      "Epoch 88/100\n",
      "176/176 [==============================] - 0s 836us/step - loss: 0.3668 - accuracy: 0.8197\n",
      "Epoch 89/100\n",
      "176/176 [==============================] - 0s 1ms/step - loss: 0.3661 - accuracy: 0.8260\n",
      "Epoch 90/100\n",
      "176/176 [==============================] - 0s 1ms/step - loss: 0.3660 - accuracy: 0.8219\n",
      "Epoch 91/100\n",
      "176/176 [==============================] - 0s 1ms/step - loss: 0.3648 - accuracy: 0.8224\n",
      "Epoch 92/100\n",
      "176/176 [==============================] - 0s 1ms/step - loss: 0.3652 - accuracy: 0.8231\n",
      "Epoch 93/100\n",
      "176/176 [==============================] - 0s 1ms/step - loss: 0.3654 - accuracy: 0.8258\n",
      "Epoch 94/100\n",
      "176/176 [==============================] - 0s 826us/step - loss: 0.3658 - accuracy: 0.8226\n",
      "Epoch 95/100\n",
      "176/176 [==============================] - 0s 839us/step - loss: 0.3646 - accuracy: 0.8258\n",
      "Epoch 96/100\n",
      "176/176 [==============================] - 0s 819us/step - loss: 0.3635 - accuracy: 0.8240\n",
      "Epoch 97/100\n",
      "176/176 [==============================] - 0s 830us/step - loss: 0.3652 - accuracy: 0.8233\n",
      "Epoch 98/100\n",
      "176/176 [==============================] - 0s 920us/step - loss: 0.3639 - accuracy: 0.8219\n",
      "Epoch 99/100\n",
      "176/176 [==============================] - 0s 878us/step - loss: 0.3633 - accuracy: 0.8233\n",
      "Epoch 100/100\n",
      "176/176 [==============================] - 0s 822us/step - loss: 0.3630 - accuracy: 0.8261\n"
     ]
    },
    {
     "data": {
      "text/plain": [
       "<tensorflow.python.keras.callbacks.History at 0x7fe84444cb50>"
      ]
     },
     "execution_count": 35,
     "metadata": {},
     "output_type": "execute_result"
    }
   ],
   "source": [
    "model.fit(X_train, y_train, epochs=100)"
   ]
  },
  {
   "cell_type": "code",
   "execution_count": 36,
   "id": "9739e5b0",
   "metadata": {},
   "outputs": [
    {
     "name": "stdout",
     "output_type": "stream",
     "text": [
      "44/44 [==============================] - 0s 668us/step - loss: 0.4475 - accuracy: 0.8095\n"
     ]
    },
    {
     "data": {
      "text/plain": [
       "[0.44753026962280273, 0.8095238208770752]"
      ]
     },
     "execution_count": 36,
     "metadata": {},
     "output_type": "execute_result"
    }
   ],
   "source": [
    "model.evaluate(X_test, y_test)"
   ]
  },
  {
   "cell_type": "code",
   "execution_count": 37,
   "id": "2f1f1f4d",
   "metadata": {},
   "outputs": [],
   "source": [
    "y_prediction = model.predict(X_test)"
   ]
  },
  {
   "cell_type": "code",
   "execution_count": 38,
   "id": "d97ea73c",
   "metadata": {},
   "outputs": [],
   "source": [
    "y_pred = []\n",
    "for element in y_prediction:\n",
    "    if element > 0.5:\n",
    "        y_pred.append(1)\n",
    "    else:\n",
    "        y_pred.append(0)"
   ]
  },
  {
   "cell_type": "code",
   "execution_count": 39,
   "id": "52938ef3",
   "metadata": {},
   "outputs": [
    {
     "name": "stdout",
     "output_type": "stream",
     "text": [
      "              precision    recall  f1-score   support\n",
      "\n",
      "           0       0.87      0.88      0.87      1059\n",
      "           1       0.62      0.59      0.61       348\n",
      "\n",
      "    accuracy                           0.81      1407\n",
      "   macro avg       0.74      0.74      0.74      1407\n",
      "weighted avg       0.81      0.81      0.81      1407\n",
      "\n"
     ]
    }
   ],
   "source": [
    "from sklearn.metrics import confusion_matrix , classification_report\n",
    "\n",
    "print(classification_report(y_test,y_pred))"
   ]
  },
  {
   "cell_type": "code",
   "execution_count": 40,
   "id": "1f8457ae",
   "metadata": {},
   "outputs": [
    {
     "data": {
      "text/plain": [
       "Text(69.0, 0.5, 'Truth')"
      ]
     },
     "execution_count": 40,
     "metadata": {},
     "output_type": "execute_result"
    },
    {
     "data": {
      "image/png": "[encoded data removed]",
      "text/plain": [
       "<Figure size 720x504 with 2 Axes>"
      ]
     },
     "metadata": {
      "needs_background": "light"
     },
     "output_type": "display_data"
    }
   ],
   "source": [
    "import seaborn as sn\n",
    "cm = tf.math.confusion_matrix(labels=y_test,predictions=y_pred)\n",
    "\n",
    "plt.figure(figsize = (10,7))\n",
    "sn.heatmap(cm, annot=True, fmt='d')\n",
    "plt.xlabel('Predicted')\n",
    "plt.ylabel('Truth')"
   ]
  },
  {
   "cell_type": "code",
   "execution_count": 41,
   "id": "0cfe3d2b",
   "metadata": {},
   "outputs": [],
   "source": [
    "accuracy = round((934+170)/(934+170+106+197),2)"
   ]
  },
  {
   "cell_type": "code",
   "execution_count": 42,
   "id": "4aedee18",
   "metadata": {},
   "outputs": [
    {
     "data": {
      "text/plain": [
       "0.78"
      ]
     },
     "execution_count": 42,
     "metadata": {},
     "output_type": "execute_result"
    }
   ],
   "source": [
    "accuracy"
   ]
  },
  {
   "cell_type": "markdown",
   "id": "5cb51768",
   "metadata": {},
   "source": [
    "## Handling Imbalanced Dataset "
   ]
  },
  {
   "cell_type": "code",
   "execution_count": 43,
   "id": "53803a3a",
   "metadata": {},
   "outputs": [
    {
     "data": {
      "text/plain": [
       "(5163,)"
      ]
     },
     "execution_count": 43,
     "metadata": {},
     "output_type": "execute_result"
    }
   ],
   "source": [
    "tenure_no.shape"
   ]
  },
  {
   "cell_type": "code",
   "execution_count": 44,
   "id": "7e4e99be",
   "metadata": {},
   "outputs": [
    {
     "data": {
      "text/plain": [
       "(1869,)"
      ]
     },
     "execution_count": 44,
     "metadata": {},
     "output_type": "execute_result"
    }
   ],
   "source": [
    "tenure_yes.shape"
   ]
  },
  {
   "cell_type": "code",
   "execution_count": 45,
   "id": "a47d58b7",
   "metadata": {},
   "outputs": [],
   "source": [
    "X = df.drop('Churn',axis='columns')\n",
    "y = testLabels = df.Churn.astype(np.float32)"
   ]
  },
  {
   "cell_type": "code",
   "execution_count": 46,
   "id": "0d3f2b69",
   "metadata": {},
   "outputs": [],
   "source": [
    "from sklearn.model_selection import train_test_split\n",
    "X_train, X_test, y_train, y_test = train_test_split(X, y, test_size=0.2, random_state=2, stratify=y)"
   ]
  },
  {
   "cell_type": "code",
   "execution_count": 47,
   "id": "a6b3c543",
   "metadata": {},
   "outputs": [],
   "source": [
    "#pip install tensorflow_addons"
   ]
  },
  {
   "cell_type": "code",
   "execution_count": 48,
   "id": "51267999",
   "metadata": {},
   "outputs": [],
   "source": [
    "from tensorflow_addons import losses"
   ]
  },
  {
   "cell_type": "code",
   "execution_count": 49,
   "id": "64cbeb89",
   "metadata": {},
   "outputs": [],
   "source": [
    "import tensorflow as tf\n",
    "from tensorflow import keras\n",
    "from sklearn.metrics import confusion_matrix , classification_report"
   ]
  },
  {
   "cell_type": "code",
   "execution_count": 50,
   "id": "e742de07",
   "metadata": {},
   "outputs": [],
   "source": [
    "def ANN(X_train, y_train, X_test, y_test, loss, weights):\n",
    "    model = keras.Sequential([\n",
    "        keras.layers.Dense(26, input_dim=26, activation='relu'),\n",
    "        keras.layers.Dense(15, activation='relu'),\n",
    "        keras.layers.Dense(1, activation='sigmoid')\n",
    "    ])\n",
    "\n",
    "    model.compile(optimizer='adam', loss=loss, metrics=['accuracy'])\n",
    "    \n",
    "    if weights == -1:\n",
    "        model.fit(X_train, y_train, epochs=100)\n",
    "    else:\n",
    "        model.fit(X_train, y_train, epochs=100, class_weight = weights)\n",
    "    \n",
    "    print(model.evaluate(X_test, y_test))\n",
    "    \n",
    "    y_preds = model.predict(X_test)\n",
    "    y_preds = np.round(y_preds)\n",
    "    \n",
    "    print(\"Classification Report: \\n\", classification_report(y_test, y_preds))\n",
    "    \n",
    "    return y_preds"
   ]
  },
  {
   "cell_type": "code",
   "execution_count": 51,
   "id": "47d795c1",
   "metadata": {},
   "outputs": [
    {
     "name": "stdout",
     "output_type": "stream",
     "text": [
      "Epoch 1/100\n",
      "176/176 [==============================] - 0s 782us/step - loss: 0.4805 - accuracy: 0.7691\n",
      "Epoch 2/100\n",
      "176/176 [==============================] - 0s 812us/step - loss: 0.4315 - accuracy: 0.7948\n",
      "Epoch 3/100\n",
      "176/176 [==============================] - 0s 820us/step - loss: 0.4242 - accuracy: 0.7998\n",
      "Epoch 4/100\n",
      "176/176 [==============================] - 0s 819us/step - loss: 0.4206 - accuracy: 0.8021\n",
      "Epoch 5/100\n",
      "176/176 [==============================] - 0s 838us/step - loss: 0.4189 - accuracy: 0.8053\n",
      "Epoch 6/100\n",
      "176/176 [==============================] - 0s 831us/step - loss: 0.4173 - accuracy: 0.8084\n",
      "Epoch 7/100\n",
      "176/176 [==============================] - 0s 844us/step - loss: 0.4154 - accuracy: 0.8096\n",
      "Epoch 8/100\n",
      "176/176 [==============================] - 0s 1ms/step - loss: 0.4153 - accuracy: 0.8060\n",
      "Epoch 9/100\n",
      "176/176 [==============================] - 0s 1ms/step - loss: 0.4139 - accuracy: 0.8094\n",
      "Epoch 10/100\n",
      "176/176 [==============================] - 0s 1ms/step - loss: 0.4128 - accuracy: 0.8057\n",
      "Epoch 11/100\n",
      "176/176 [==============================] - 0s 2ms/step - loss: 0.4128 - accuracy: 0.8103\n",
      "Epoch 12/100\n",
      "176/176 [==============================] - 0s 2ms/step - loss: 0.4111 - accuracy: 0.8117\n",
      "Epoch 13/100\n",
      "176/176 [==============================] - 0s 1ms/step - loss: 0.4106 - accuracy: 0.8116\n",
      "Epoch 14/100\n",
      "176/176 [==============================] - 0s 1ms/step - loss: 0.4092 - accuracy: 0.8098\n",
      "Epoch 15/100\n",
      "176/176 [==============================] - 0s 966us/step - loss: 0.4089 - accuracy: 0.8114\n",
      "Epoch 16/100\n",
      "176/176 [==============================] - 0s 922us/step - loss: 0.4096 - accuracy: 0.8114\n",
      "Epoch 17/100\n",
      "176/176 [==============================] - 0s 1ms/step - loss: 0.4079 - accuracy: 0.8110\n",
      "Epoch 18/100\n",
      "176/176 [==============================] - 0s 962us/step - loss: 0.4070 - accuracy: 0.8107\n",
      "Epoch 19/100\n",
      "176/176 [==============================] - 0s 995us/step - loss: 0.4067 - accuracy: 0.8128\n",
      "Epoch 20/100\n",
      "176/176 [==============================] - 0s 966us/step - loss: 0.4059 - accuracy: 0.8128\n",
      "Epoch 21/100\n",
      "176/176 [==============================] - 0s 930us/step - loss: 0.4054 - accuracy: 0.8153\n",
      "Epoch 22/100\n",
      "176/176 [==============================] - 0s 942us/step - loss: 0.4042 - accuracy: 0.8140\n",
      "Epoch 23/100\n",
      "176/176 [==============================] - 0s 964us/step - loss: 0.4052 - accuracy: 0.8124\n",
      "Epoch 24/100\n",
      "176/176 [==============================] - 0s 956us/step - loss: 0.4039 - accuracy: 0.8126\n",
      "Epoch 25/100\n",
      "176/176 [==============================] - 0s 907us/step - loss: 0.4035 - accuracy: 0.8144\n",
      "Epoch 26/100\n",
      "176/176 [==============================] - 0s 926us/step - loss: 0.4030 - accuracy: 0.8108\n",
      "Epoch 27/100\n",
      "176/176 [==============================] - 0s 942us/step - loss: 0.4019 - accuracy: 0.8124\n",
      "Epoch 28/100\n",
      "176/176 [==============================] - 0s 904us/step - loss: 0.4015 - accuracy: 0.8140\n",
      "Epoch 29/100\n",
      "176/176 [==============================] - 0s 925us/step - loss: 0.4011 - accuracy: 0.8130\n",
      "Epoch 30/100\n",
      "176/176 [==============================] - 0s 898us/step - loss: 0.3998 - accuracy: 0.8140\n",
      "Epoch 31/100\n",
      "176/176 [==============================] - 0s 946us/step - loss: 0.3995 - accuracy: 0.8140\n",
      "Epoch 32/100\n",
      "176/176 [==============================] - 0s 935us/step - loss: 0.3997 - accuracy: 0.8158\n",
      "Epoch 33/100\n",
      "176/176 [==============================] - 0s 901us/step - loss: 0.3990 - accuracy: 0.8149\n",
      "Epoch 34/100\n",
      "176/176 [==============================] - 0s 1ms/step - loss: 0.3979 - accuracy: 0.8148\n",
      "Epoch 35/100\n",
      "176/176 [==============================] - 0s 1ms/step - loss: 0.3964 - accuracy: 0.8167\n",
      "Epoch 36/100\n",
      "176/176 [==============================] - 0s 985us/step - loss: 0.3956 - accuracy: 0.8176\n",
      "Epoch 37/100\n",
      "176/176 [==============================] - 0s 993us/step - loss: 0.3968 - accuracy: 0.8149\n",
      "Epoch 38/100\n",
      "176/176 [==============================] - 0s 1ms/step - loss: 0.3956 - accuracy: 0.8155\n",
      "Epoch 39/100\n",
      "176/176 [==============================] - 0s 1ms/step - loss: 0.3956 - accuracy: 0.8164\n",
      "Epoch 40/100\n",
      "176/176 [==============================] - 0s 1ms/step - loss: 0.3939 - accuracy: 0.8162\n",
      "Epoch 41/100\n",
      "176/176 [==============================] - 0s 1ms/step - loss: 0.3946 - accuracy: 0.8167\n",
      "Epoch 42/100\n",
      "176/176 [==============================] - 0s 1ms/step - loss: 0.3942 - accuracy: 0.8149\n",
      "Epoch 43/100\n",
      "176/176 [==============================] - 0s 1ms/step - loss: 0.3919 - accuracy: 0.8171\n",
      "Epoch 44/100\n",
      "176/176 [==============================] - 0s 1ms/step - loss: 0.3931 - accuracy: 0.8171\n",
      "Epoch 45/100\n",
      "176/176 [==============================] - 0s 1ms/step - loss: 0.3917 - accuracy: 0.8178\n",
      "Epoch 46/100\n",
      "176/176 [==============================] - 0s 1ms/step - loss: 0.3903 - accuracy: 0.8144\n",
      "Epoch 47/100\n",
      "176/176 [==============================] - 0s 1ms/step - loss: 0.3905 - accuracy: 0.8180\n",
      "Epoch 48/100\n",
      "176/176 [==============================] - 0s 1ms/step - loss: 0.3904 - accuracy: 0.8197\n",
      "Epoch 49/100\n",
      "176/176 [==============================] - 0s 1ms/step - loss: 0.3908 - accuracy: 0.8190\n",
      "Epoch 50/100\n",
      "176/176 [==============================] - 0s 1ms/step - loss: 0.3884 - accuracy: 0.8160\n",
      "Epoch 51/100\n",
      "176/176 [==============================] - 0s 1ms/step - loss: 0.3886 - accuracy: 0.8197\n",
      "Epoch 52/100\n",
      "176/176 [==============================] - 0s 1ms/step - loss: 0.3879 - accuracy: 0.8201\n",
      "Epoch 53/100\n",
      "176/176 [==============================] - 0s 1ms/step - loss: 0.3870 - accuracy: 0.8199\n",
      "Epoch 54/100\n",
      "176/176 [==============================] - 0s 974us/step - loss: 0.3866 - accuracy: 0.8201\n",
      "Epoch 55/100\n",
      "176/176 [==============================] - 0s 1ms/step - loss: 0.3864 - accuracy: 0.8194\n",
      "Epoch 56/100\n",
      "176/176 [==============================] - 0s 1ms/step - loss: 0.3850 - accuracy: 0.8192\n",
      "Epoch 57/100\n",
      "176/176 [==============================] - 0s 1ms/step - loss: 0.3858 - accuracy: 0.8213\n",
      "Epoch 58/100\n",
      "176/176 [==============================] - 0s 1ms/step - loss: 0.3860 - accuracy: 0.8194\n",
      "Epoch 59/100\n",
      "176/176 [==============================] - 0s 912us/step - loss: 0.3841 - accuracy: 0.8197\n",
      "Epoch 60/100\n",
      "176/176 [==============================] - 0s 1ms/step - loss: 0.3838 - accuracy: 0.8219\n",
      "Epoch 61/100\n",
      "176/176 [==============================] - 0s 1ms/step - loss: 0.3827 - accuracy: 0.8242\n",
      "Epoch 62/100\n",
      "176/176 [==============================] - 0s 1ms/step - loss: 0.3822 - accuracy: 0.8238\n",
      "Epoch 63/100\n",
      "176/176 [==============================] - 0s 1ms/step - loss: 0.3828 - accuracy: 0.8194\n",
      "Epoch 64/100\n",
      "176/176 [==============================] - 0s 1ms/step - loss: 0.3831 - accuracy: 0.8228\n",
      "Epoch 65/100\n",
      "176/176 [==============================] - 0s 1ms/step - loss: 0.3819 - accuracy: 0.8201\n",
      "Epoch 66/100\n",
      "176/176 [==============================] - 0s 1ms/step - loss: 0.3807 - accuracy: 0.8226\n",
      "Epoch 67/100\n",
      "176/176 [==============================] - 0s 1ms/step - loss: 0.3810 - accuracy: 0.8199\n",
      "Epoch 68/100\n",
      "176/176 [==============================] - 0s 1ms/step - loss: 0.3813 - accuracy: 0.8219\n",
      "Epoch 69/100\n",
      "176/176 [==============================] - 0s 925us/step - loss: 0.3799 - accuracy: 0.8236\n",
      "Epoch 70/100\n",
      "176/176 [==============================] - 0s 1ms/step - loss: 0.3803 - accuracy: 0.8224\n",
      "Epoch 71/100\n",
      "176/176 [==============================] - 0s 1ms/step - loss: 0.3797 - accuracy: 0.8229\n",
      "Epoch 72/100\n",
      "176/176 [==============================] - 0s 1ms/step - loss: 0.3776 - accuracy: 0.8235\n",
      "Epoch 73/100\n",
      "176/176 [==============================] - 0s 1ms/step - loss: 0.3790 - accuracy: 0.8213\n",
      "Epoch 74/100\n",
      "176/176 [==============================] - 0s 944us/step - loss: 0.3768 - accuracy: 0.8238\n",
      "Epoch 75/100\n",
      "176/176 [==============================] - 0s 982us/step - loss: 0.3767 - accuracy: 0.8208\n",
      "Epoch 76/100\n",
      "176/176 [==============================] - 0s 1ms/step - loss: 0.3762 - accuracy: 0.8261\n",
      "Epoch 77/100\n",
      "176/176 [==============================] - 0s 1ms/step - loss: 0.3774 - accuracy: 0.8208\n",
      "Epoch 78/100\n",
      "176/176 [==============================] - 0s 954us/step - loss: 0.3768 - accuracy: 0.8212\n",
      "Epoch 79/100\n",
      "176/176 [==============================] - 0s 996us/step - loss: 0.3756 - accuracy: 0.8245\n",
      "Epoch 80/100\n"
     ]
    },
    {
     "name": "stdout",
     "output_type": "stream",
     "text": [
      "176/176 [==============================] - 0s 1ms/step - loss: 0.3755 - accuracy: 0.8228\n",
      "Epoch 81/100\n",
      "176/176 [==============================] - 0s 946us/step - loss: 0.3745 - accuracy: 0.8242\n",
      "Epoch 82/100\n",
      "176/176 [==============================] - 0s 938us/step - loss: 0.3741 - accuracy: 0.8215\n",
      "Epoch 83/100\n",
      "176/176 [==============================] - 0s 886us/step - loss: 0.3733 - accuracy: 0.8226\n",
      "Epoch 84/100\n",
      "176/176 [==============================] - 0s 892us/step - loss: 0.3732 - accuracy: 0.8238\n",
      "Epoch 85/100\n",
      "176/176 [==============================] - 0s 952us/step - loss: 0.3725 - accuracy: 0.8263\n",
      "Epoch 86/100\n",
      "176/176 [==============================] - 0s 916us/step - loss: 0.3730 - accuracy: 0.8240\n",
      "Epoch 87/100\n",
      "176/176 [==============================] - 0s 930us/step - loss: 0.3725 - accuracy: 0.8226\n",
      "Epoch 88/100\n",
      "176/176 [==============================] - 0s 922us/step - loss: 0.3709 - accuracy: 0.8263\n",
      "Epoch 89/100\n",
      "176/176 [==============================] - 0s 945us/step - loss: 0.3703 - accuracy: 0.8272\n",
      "Epoch 90/100\n",
      "176/176 [==============================] - 0s 912us/step - loss: 0.3693 - accuracy: 0.8256\n",
      "Epoch 91/100\n",
      "176/176 [==============================] - 0s 903us/step - loss: 0.3711 - accuracy: 0.8263\n",
      "Epoch 92/100\n",
      "176/176 [==============================] - 0s 906us/step - loss: 0.3690 - accuracy: 0.8290\n",
      "Epoch 93/100\n",
      "176/176 [==============================] - 0s 938us/step - loss: 0.3698 - accuracy: 0.8265\n",
      "Epoch 94/100\n",
      "176/176 [==============================] - 0s 941us/step - loss: 0.3672 - accuracy: 0.8290\n",
      "Epoch 95/100\n",
      "176/176 [==============================] - 0s 951us/step - loss: 0.3670 - accuracy: 0.8272\n",
      "Epoch 96/100\n",
      "176/176 [==============================] - 0s 940us/step - loss: 0.3685 - accuracy: 0.8274\n",
      "Epoch 97/100\n",
      "176/176 [==============================] - 0s 961us/step - loss: 0.3664 - accuracy: 0.8272\n",
      "Epoch 98/100\n",
      "176/176 [==============================] - 0s 1ms/step - loss: 0.3678 - accuracy: 0.8272\n",
      "Epoch 99/100\n",
      "176/176 [==============================] - 0s 913us/step - loss: 0.3652 - accuracy: 0.8306\n",
      "Epoch 100/100\n",
      "176/176 [==============================] - 0s 957us/step - loss: 0.3651 - accuracy: 0.8268\n",
      "44/44 [==============================] - 0s 577us/step - loss: 0.4479 - accuracy: 0.7854\n",
      "[0.44792816042900085, 0.7853589057922363]\n",
      "Classification Report: \n",
      "               precision    recall  f1-score   support\n",
      "\n",
      "         0.0       0.85      0.86      0.85      1033\n",
      "         1.0       0.60      0.59      0.59       374\n",
      "\n",
      "    accuracy                           0.79      1407\n",
      "   macro avg       0.72      0.72      0.72      1407\n",
      "weighted avg       0.78      0.79      0.78      1407\n",
      "\n"
     ]
    }
   ],
   "source": [
    "y_preds = ANN(X_train, y_train, X_test, y_test, 'binary_crossentropy', -1)"
   ]
  },
  {
   "cell_type": "markdown",
   "id": "d6d31eed",
   "metadata": {},
   "source": [
    "## Method 1: Undersampling"
   ]
  },
  {
   "cell_type": "code",
   "execution_count": 53,
   "id": "4d452a6e",
   "metadata": {},
   "outputs": [],
   "source": [
    "# Class count\n",
    "count_class_0, count_class_1 = df.Churn.value_counts()\n",
    "\n",
    "# Divide by class\n",
    "df_class_0 = df[df['Churn'] == 0]\n",
    "df_class_1 = df[df['Churn'] == 1]"
   ]
  },
  {
   "cell_type": "code",
   "execution_count": 54,
   "id": "e3c43a8b",
   "metadata": {},
   "outputs": [
    {
     "data": {
      "text/plain": [
       "0.0    5163\n",
       "1.0    1869\n",
       "Name: Churn, dtype: int64"
      ]
     },
     "execution_count": 54,
     "metadata": {},
     "output_type": "execute_result"
    }
   ],
   "source": [
    "y.value_counts()"
   ]
  },
  {
   "cell_type": "code",
   "execution_count": 55,
   "id": "a90a4b0c",
   "metadata": {},
   "outputs": [
    {
     "data": {
      "text/plain": [
       "0.0    4130\n",
       "1.0    1495\n",
       "Name: Churn, dtype: int64"
      ]
     },
     "execution_count": 55,
     "metadata": {},
     "output_type": "execute_result"
    }
   ],
   "source": [
    "y_train.value_counts()"
   ]
  },
  {
   "cell_type": "code",
   "execution_count": 56,
   "id": "25c08c14",
   "metadata": {},
   "outputs": [
    {
     "name": "stdout",
     "output_type": "stream",
     "text": [
      "Random under-sampling:\n",
      "0    1869\n",
      "1    1869\n",
      "Name: Churn, dtype: int64\n"
     ]
    }
   ],
   "source": [
    "# Undersample 0-class and concat the DataFrames of both class\n",
    "df_class_0_under = df_class_0.sample(count_class_1)\n",
    "df_test_under = pd.concat([df_class_0_under, df_class_1], axis=0)\n",
    "\n",
    "print('Random under-sampling:')\n",
    "print(df_test_under.Churn.value_counts())"
   ]
  },
  {
   "cell_type": "code",
   "execution_count": 57,
   "id": "bd768eda",
   "metadata": {},
   "outputs": [],
   "source": [
    "X = df_test_under.drop('Churn',axis='columns')\n",
    "y = df_test_under['Churn']\n",
    "\n",
    "from sklearn.model_selection import train_test_split\n",
    "X_train, X_test, y_train, y_test = train_test_split(X, y, test_size=0.2, random_state=2, stratify=y)"
   ]
  },
  {
   "cell_type": "code",
   "execution_count": 58,
   "id": "271e77fc",
   "metadata": {},
   "outputs": [
    {
     "data": {
      "text/plain": [
       "0    1495\n",
       "1    1495\n",
       "Name: Churn, dtype: int64"
      ]
     },
     "execution_count": 58,
     "metadata": {},
     "output_type": "execute_result"
    }
   ],
   "source": [
    "y_train.value_counts()"
   ]
  },
  {
   "cell_type": "code",
   "execution_count": 59,
   "id": "19af775a",
   "metadata": {},
   "outputs": [
    {
     "name": "stdout",
     "output_type": "stream",
     "text": [
      "Epoch 1/100\n",
      "94/94 [==============================] - 0s 901us/step - loss: 0.6022 - accuracy: 0.6890\n",
      "Epoch 2/100\n",
      "94/94 [==============================] - 0s 996us/step - loss: 0.5115 - accuracy: 0.7585\n",
      "Epoch 3/100\n",
      "94/94 [==============================] - 0s 835us/step - loss: 0.4939 - accuracy: 0.7669\n",
      "Epoch 4/100\n",
      "94/94 [==============================] - 0s 820us/step - loss: 0.4847 - accuracy: 0.7709\n",
      "Epoch 5/100\n",
      "94/94 [==============================] - 0s 850us/step - loss: 0.4798 - accuracy: 0.7702\n",
      "Epoch 6/100\n",
      "94/94 [==============================] - 0s 795us/step - loss: 0.4762 - accuracy: 0.7712\n",
      "Epoch 7/100\n",
      "94/94 [==============================] - 0s 832us/step - loss: 0.4763 - accuracy: 0.7753\n",
      "Epoch 8/100\n",
      "94/94 [==============================] - 0s 836us/step - loss: 0.4724 - accuracy: 0.7756\n",
      "Epoch 9/100\n",
      "94/94 [==============================] - 0s 866us/step - loss: 0.4727 - accuracy: 0.7709\n",
      "Epoch 10/100\n",
      "94/94 [==============================] - 0s 853us/step - loss: 0.4698 - accuracy: 0.7753\n",
      "Epoch 11/100\n",
      "94/94 [==============================] - 0s 868us/step - loss: 0.4685 - accuracy: 0.7766\n",
      "Epoch 12/100\n",
      "94/94 [==============================] - 0s 934us/step - loss: 0.4674 - accuracy: 0.7749\n",
      "Epoch 13/100\n",
      "94/94 [==============================] - 0s 907us/step - loss: 0.4653 - accuracy: 0.7746\n",
      "Epoch 14/100\n",
      "94/94 [==============================] - 0s 917us/step - loss: 0.4654 - accuracy: 0.7779\n",
      "Epoch 15/100\n",
      "94/94 [==============================] - 0s 863us/step - loss: 0.4635 - accuracy: 0.7846\n",
      "Epoch 16/100\n",
      "94/94 [==============================] - 0s 863us/step - loss: 0.4625 - accuracy: 0.7816\n",
      "Epoch 17/100\n",
      "94/94 [==============================] - 0s 894us/step - loss: 0.4615 - accuracy: 0.7823\n",
      "Epoch 18/100\n",
      "94/94 [==============================] - 0s 935us/step - loss: 0.4617 - accuracy: 0.7823\n",
      "Epoch 19/100\n",
      "94/94 [==============================] - 0s 1ms/step - loss: 0.4600 - accuracy: 0.7846\n",
      "Epoch 20/100\n",
      "94/94 [==============================] - 0s 1ms/step - loss: 0.4588 - accuracy: 0.7826\n",
      "Epoch 21/100\n",
      "94/94 [==============================] - 0s 1ms/step - loss: 0.4573 - accuracy: 0.7866\n",
      "Epoch 22/100\n",
      "94/94 [==============================] - 0s 1ms/step - loss: 0.4578 - accuracy: 0.7866\n",
      "Epoch 23/100\n",
      "94/94 [==============================] - 0s 1ms/step - loss: 0.4543 - accuracy: 0.7856\n",
      "Epoch 24/100\n",
      "94/94 [==============================] - 0s 1ms/step - loss: 0.4550 - accuracy: 0.7809\n",
      "Epoch 25/100\n",
      "94/94 [==============================] - 0s 1ms/step - loss: 0.4562 - accuracy: 0.7823\n",
      "Epoch 26/100\n",
      "94/94 [==============================] - 0s 1ms/step - loss: 0.4520 - accuracy: 0.7886\n",
      "Epoch 27/100\n",
      "94/94 [==============================] - 0s 1ms/step - loss: 0.4513 - accuracy: 0.7886\n",
      "Epoch 28/100\n",
      "94/94 [==============================] - 0s 1ms/step - loss: 0.4497 - accuracy: 0.7866\n",
      "Epoch 29/100\n",
      "94/94 [==============================] - 0s 1ms/step - loss: 0.4523 - accuracy: 0.7870\n",
      "Epoch 30/100\n",
      "94/94 [==============================] - 0s 1ms/step - loss: 0.4488 - accuracy: 0.7846\n",
      "Epoch 31/100\n",
      "94/94 [==============================] - 0s 2ms/step - loss: 0.4478 - accuracy: 0.7913\n",
      "Epoch 32/100\n",
      "94/94 [==============================] - 0s 2ms/step - loss: 0.4468 - accuracy: 0.7946\n",
      "Epoch 33/100\n",
      "94/94 [==============================] - 0s 2ms/step - loss: 0.4464 - accuracy: 0.7943\n",
      "Epoch 34/100\n",
      "94/94 [==============================] - 0s 2ms/step - loss: 0.4450 - accuracy: 0.7920\n",
      "Epoch 35/100\n",
      "94/94 [==============================] - 0s 1ms/step - loss: 0.4441 - accuracy: 0.7930\n",
      "Epoch 36/100\n",
      "94/94 [==============================] - 0s 2ms/step - loss: 0.4428 - accuracy: 0.7916\n",
      "Epoch 37/100\n",
      "94/94 [==============================] - 0s 1ms/step - loss: 0.4416 - accuracy: 0.7936\n",
      "Epoch 38/100\n",
      "94/94 [==============================] - 0s 1ms/step - loss: 0.4417 - accuracy: 0.7940\n",
      "Epoch 39/100\n",
      "94/94 [==============================] - 0s 1ms/step - loss: 0.4411 - accuracy: 0.7926\n",
      "Epoch 40/100\n",
      "94/94 [==============================] - 0s 1ms/step - loss: 0.4399 - accuracy: 0.7946\n",
      "Epoch 41/100\n",
      "94/94 [==============================] - 0s 1ms/step - loss: 0.4390 - accuracy: 0.7953\n",
      "Epoch 42/100\n",
      "94/94 [==============================] - 0s 1ms/step - loss: 0.4389 - accuracy: 0.7960\n",
      "Epoch 43/100\n",
      "94/94 [==============================] - 0s 1ms/step - loss: 0.4390 - accuracy: 0.7990\n",
      "Epoch 44/100\n",
      "94/94 [==============================] - 0s 1ms/step - loss: 0.4375 - accuracy: 0.8000\n",
      "Epoch 45/100\n",
      "94/94 [==============================] - 0s 1ms/step - loss: 0.4365 - accuracy: 0.7957\n",
      "Epoch 46/100\n",
      "94/94 [==============================] - 0s 1ms/step - loss: 0.4352 - accuracy: 0.7957\n",
      "Epoch 47/100\n",
      "94/94 [==============================] - 0s 1ms/step - loss: 0.4375 - accuracy: 0.7990\n",
      "Epoch 48/100\n",
      "94/94 [==============================] - 0s 1ms/step - loss: 0.4351 - accuracy: 0.8017\n",
      "Epoch 49/100\n",
      "94/94 [==============================] - 0s 1ms/step - loss: 0.4337 - accuracy: 0.8003\n",
      "Epoch 50/100\n",
      "94/94 [==============================] - 0s 1ms/step - loss: 0.4359 - accuracy: 0.7940\n",
      "Epoch 51/100\n",
      "94/94 [==============================] - 0s 1ms/step - loss: 0.4333 - accuracy: 0.7977\n",
      "Epoch 52/100\n",
      "94/94 [==============================] - 0s 1ms/step - loss: 0.4316 - accuracy: 0.7990\n",
      "Epoch 53/100\n",
      "94/94 [==============================] - 0s 1ms/step - loss: 0.4315 - accuracy: 0.8000\n",
      "Epoch 54/100\n",
      "94/94 [==============================] - 0s 985us/step - loss: 0.4317 - accuracy: 0.7977\n",
      "Epoch 55/100\n",
      "94/94 [==============================] - 0s 931us/step - loss: 0.4324 - accuracy: 0.7967\n",
      "Epoch 56/100\n",
      "94/94 [==============================] - 0s 949us/step - loss: 0.4290 - accuracy: 0.8037\n",
      "Epoch 57/100\n",
      "94/94 [==============================] - 0s 958us/step - loss: 0.4295 - accuracy: 0.8050\n",
      "Epoch 58/100\n",
      "94/94 [==============================] - 0s 954us/step - loss: 0.4296 - accuracy: 0.7993\n",
      "Epoch 59/100\n",
      "94/94 [==============================] - 0s 870us/step - loss: 0.4305 - accuracy: 0.8047\n",
      "Epoch 60/100\n",
      "94/94 [==============================] - 0s 914us/step - loss: 0.4271 - accuracy: 0.8047\n",
      "Epoch 61/100\n",
      "94/94 [==============================] - 0s 930us/step - loss: 0.4270 - accuracy: 0.8037\n",
      "Epoch 62/100\n",
      "94/94 [==============================] - 0s 958us/step - loss: 0.4249 - accuracy: 0.8003\n",
      "Epoch 63/100\n",
      "94/94 [==============================] - 0s 961us/step - loss: 0.4234 - accuracy: 0.8064\n",
      "Epoch 64/100\n",
      "94/94 [==============================] - 0s 1ms/step - loss: 0.4229 - accuracy: 0.8023\n",
      "Epoch 65/100\n",
      "94/94 [==============================] - 0s 1ms/step - loss: 0.4231 - accuracy: 0.8037\n",
      "Epoch 66/100\n",
      "94/94 [==============================] - 0s 1000us/step - loss: 0.4226 - accuracy: 0.8060\n",
      "Epoch 67/100\n",
      "94/94 [==============================] - 0s 1ms/step - loss: 0.4213 - accuracy: 0.8013\n",
      "Epoch 68/100\n",
      "94/94 [==============================] - 0s 1ms/step - loss: 0.4206 - accuracy: 0.8057\n",
      "Epoch 69/100\n",
      "94/94 [==============================] - 0s 1ms/step - loss: 0.4212 - accuracy: 0.8054\n",
      "Epoch 70/100\n",
      "94/94 [==============================] - 0s 1ms/step - loss: 0.4222 - accuracy: 0.8030\n",
      "Epoch 71/100\n",
      "94/94 [==============================] - 0s 2ms/step - loss: 0.4181 - accuracy: 0.8074\n",
      "Epoch 72/100\n",
      "94/94 [==============================] - 0s 1ms/step - loss: 0.4187 - accuracy: 0.8090\n",
      "Epoch 73/100\n",
      "94/94 [==============================] - 0s 1ms/step - loss: 0.4163 - accuracy: 0.8054\n",
      "Epoch 74/100\n",
      "94/94 [==============================] - 0s 1ms/step - loss: 0.4160 - accuracy: 0.8060\n",
      "Epoch 75/100\n",
      "94/94 [==============================] - 0s 1ms/step - loss: 0.4162 - accuracy: 0.8047\n",
      "Epoch 76/100\n",
      "94/94 [==============================] - 0s 1ms/step - loss: 0.4149 - accuracy: 0.8124\n",
      "Epoch 77/100\n",
      "94/94 [==============================] - 0s 1ms/step - loss: 0.4179 - accuracy: 0.8087\n",
      "Epoch 78/100\n",
      "94/94 [==============================] - 0s 1ms/step - loss: 0.4142 - accuracy: 0.8110\n",
      "Epoch 79/100\n",
      "94/94 [==============================] - 0s 1ms/step - loss: 0.4127 - accuracy: 0.8074\n",
      "Epoch 80/100\n",
      "94/94 [==============================] - 0s 1ms/step - loss: 0.4129 - accuracy: 0.8084\n",
      "Epoch 81/100\n",
      "94/94 [==============================] - 0s 1ms/step - loss: 0.4121 - accuracy: 0.8144\n",
      "Epoch 82/100\n"
     ]
    },
    {
     "name": "stdout",
     "output_type": "stream",
     "text": [
      "94/94 [==============================] - 0s 1ms/step - loss: 0.4118 - accuracy: 0.8087\n",
      "Epoch 83/100\n",
      "94/94 [==============================] - 0s 1ms/step - loss: 0.4101 - accuracy: 0.8114\n",
      "Epoch 84/100\n",
      "94/94 [==============================] - 0s 1ms/step - loss: 0.4122 - accuracy: 0.8130\n",
      "Epoch 85/100\n",
      "94/94 [==============================] - 0s 1ms/step - loss: 0.4114 - accuracy: 0.8134\n",
      "Epoch 86/100\n",
      "94/94 [==============================] - 0s 1ms/step - loss: 0.4117 - accuracy: 0.8094\n",
      "Epoch 87/100\n",
      "94/94 [==============================] - 0s 1ms/step - loss: 0.4084 - accuracy: 0.8134\n",
      "Epoch 88/100\n",
      "94/94 [==============================] - 0s 1ms/step - loss: 0.4074 - accuracy: 0.8171\n",
      "Epoch 89/100\n",
      "94/94 [==============================] - 0s 1ms/step - loss: 0.4070 - accuracy: 0.8120\n",
      "Epoch 90/100\n",
      "94/94 [==============================] - 0s 1ms/step - loss: 0.4076 - accuracy: 0.8127\n",
      "Epoch 91/100\n",
      "94/94 [==============================] - 0s 1ms/step - loss: 0.4064 - accuracy: 0.8171\n",
      "Epoch 92/100\n",
      "94/94 [==============================] - 0s 1ms/step - loss: 0.4068 - accuracy: 0.8134\n",
      "Epoch 93/100\n",
      "94/94 [==============================] - 0s 1ms/step - loss: 0.4069 - accuracy: 0.8147\n",
      "Epoch 94/100\n",
      "94/94 [==============================] - 0s 1ms/step - loss: 0.4044 - accuracy: 0.8144\n",
      "Epoch 95/100\n",
      "94/94 [==============================] - 0s 1ms/step - loss: 0.4032 - accuracy: 0.8184\n",
      "Epoch 96/100\n",
      "94/94 [==============================] - 0s 1ms/step - loss: 0.4047 - accuracy: 0.8140\n",
      "Epoch 97/100\n",
      "94/94 [==============================] - 0s 963us/step - loss: 0.4046 - accuracy: 0.8134\n",
      "Epoch 98/100\n",
      "94/94 [==============================] - 0s 1ms/step - loss: 0.4025 - accuracy: 0.8171\n",
      "Epoch 99/100\n",
      "94/94 [==============================] - 0s 1ms/step - loss: 0.4023 - accuracy: 0.8194\n",
      "Epoch 100/100\n",
      "94/94 [==============================] - 0s 1ms/step - loss: 0.4033 - accuracy: 0.8161: 0s - loss: 0.4028 - accuracy: 0.\n",
      "24/24 [==============================] - 0s 938us/step - loss: 0.5172 - accuracy: 0.7473\n",
      "[0.5171858668327332, 0.7473261952400208]\n",
      "Classification Report: \n",
      "               precision    recall  f1-score   support\n",
      "\n",
      "           0       0.76      0.72      0.74       374\n",
      "           1       0.73      0.78      0.75       374\n",
      "\n",
      "    accuracy                           0.75       748\n",
      "   macro avg       0.75      0.75      0.75       748\n",
      "weighted avg       0.75      0.75      0.75       748\n",
      "\n"
     ]
    }
   ],
   "source": [
    "y_preds = ANN(X_train, y_train, X_test, y_test, 'binary_crossentropy', -1)"
   ]
  },
  {
   "cell_type": "markdown",
   "id": "e286a086",
   "metadata": {},
   "source": [
    "## Method2: Oversampling"
   ]
  },
  {
   "cell_type": "code",
   "execution_count": 60,
   "id": "9cc873e7",
   "metadata": {},
   "outputs": [
    {
     "name": "stdout",
     "output_type": "stream",
     "text": [
      "Random over-sampling:\n",
      "0    5163\n",
      "1    5163\n",
      "Name: Churn, dtype: int64\n"
     ]
    }
   ],
   "source": [
    "# Oversample 1-class and concat the DataFrames of both classes\n",
    "df_class_1_over = df_class_1.sample(count_class_0, replace=True)\n",
    "df_test_over = pd.concat([df_class_0, df_class_1_over], axis=0)\n",
    "\n",
    "print('Random over-sampling:')\n",
    "print(df_test_over.Churn.value_counts())"
   ]
  },
  {
   "cell_type": "code",
   "execution_count": 61,
   "id": "f99bda87",
   "metadata": {},
   "outputs": [],
   "source": [
    "X = df_test_over.drop('Churn',axis='columns')\n",
    "y = df_test_over['Churn']\n",
    "\n",
    "from sklearn.model_selection import train_test_split\n",
    "X_train, X_test, y_train, y_test = train_test_split(X, y, test_size=0.2, random_state=2, stratify=y)"
   ]
  },
  {
   "cell_type": "code",
   "execution_count": 62,
   "id": "b5433af1",
   "metadata": {},
   "outputs": [
    {
     "data": {
      "text/plain": [
       "0    4130\n",
       "1    4130\n",
       "Name: Churn, dtype: int64"
      ]
     },
     "execution_count": 62,
     "metadata": {},
     "output_type": "execute_result"
    }
   ],
   "source": [
    "# Number of classes in training Data\n",
    "y_train.value_counts()"
   ]
  },
  {
   "cell_type": "code",
   "execution_count": 63,
   "id": "403f0c00",
   "metadata": {},
   "outputs": [
    {
     "name": "stdout",
     "output_type": "stream",
     "text": [
      "Epoch 1/100\n",
      "259/259 [==============================] - 0s 792us/step - loss: 0.5349 - accuracy: 0.7412\n",
      "Epoch 2/100\n",
      "259/259 [==============================] - 0s 788us/step - loss: 0.4875 - accuracy: 0.7637\n",
      "Epoch 3/100\n",
      "259/259 [==============================] - 0s 801us/step - loss: 0.4788 - accuracy: 0.7697\n",
      "Epoch 4/100\n",
      "259/259 [==============================] - 0s 826us/step - loss: 0.4746 - accuracy: 0.7706\n",
      "Epoch 5/100\n",
      "259/259 [==============================] - 0s 853us/step - loss: 0.4695 - accuracy: 0.7728\n",
      "Epoch 6/100\n",
      "259/259 [==============================] - 0s 883us/step - loss: 0.4675 - accuracy: 0.7749\n",
      "Epoch 7/100\n",
      "259/259 [==============================] - 0s 844us/step - loss: 0.4633 - accuracy: 0.7741\n",
      "Epoch 8/100\n",
      "259/259 [==============================] - 0s 918us/step - loss: 0.4597 - accuracy: 0.7787\n",
      "Epoch 9/100\n",
      "259/259 [==============================] - 0s 1ms/step - loss: 0.4574 - accuracy: 0.7782\n",
      "Epoch 10/100\n",
      "259/259 [==============================] - 0s 1ms/step - loss: 0.4550 - accuracy: 0.7810\n",
      "Epoch 11/100\n",
      "259/259 [==============================] - 0s 2ms/step - loss: 0.4525 - accuracy: 0.7834\n",
      "Epoch 12/100\n",
      "259/259 [==============================] - 0s 2ms/step - loss: 0.4518 - accuracy: 0.7824\n",
      "Epoch 13/100\n",
      "259/259 [==============================] - 0s 1ms/step - loss: 0.4473 - accuracy: 0.7873\n",
      "Epoch 14/100\n",
      "259/259 [==============================] - 0s 996us/step - loss: 0.4449 - accuracy: 0.7874\n",
      "Epoch 15/100\n",
      "259/259 [==============================] - 0s 955us/step - loss: 0.4430 - accuracy: 0.7844\n",
      "Epoch 16/100\n",
      "259/259 [==============================] - 0s 1ms/step - loss: 0.4406 - accuracy: 0.7912\n",
      "Epoch 17/100\n",
      "259/259 [==============================] - 0s 998us/step - loss: 0.4388 - accuracy: 0.7950\n",
      "Epoch 18/100\n",
      "259/259 [==============================] - 0s 950us/step - loss: 0.4379 - accuracy: 0.7901\n",
      "Epoch 19/100\n",
      "259/259 [==============================] - 0s 951us/step - loss: 0.4349 - accuracy: 0.7954\n",
      "Epoch 20/100\n",
      "259/259 [==============================] - 0s 962us/step - loss: 0.4336 - accuracy: 0.7976\n",
      "Epoch 21/100\n",
      "259/259 [==============================] - 0s 1ms/step - loss: 0.4310 - accuracy: 0.7976\n",
      "Epoch 22/100\n",
      "259/259 [==============================] - 0s 1ms/step - loss: 0.4288 - accuracy: 0.7994\n",
      "Epoch 23/100\n",
      "259/259 [==============================] - 0s 959us/step - loss: 0.4274 - accuracy: 0.8011\n",
      "Epoch 24/100\n",
      "259/259 [==============================] - 0s 995us/step - loss: 0.4266 - accuracy: 0.8002\n",
      "Epoch 25/100\n",
      "259/259 [==============================] - 0s 1ms/step - loss: 0.4236 - accuracy: 0.8005\n",
      "Epoch 26/100\n",
      "259/259 [==============================] - 0s 1ms/step - loss: 0.4228 - accuracy: 0.8013\n",
      "Epoch 27/100\n",
      "259/259 [==============================] - 0s 1ms/step - loss: 0.4205 - accuracy: 0.8036\n",
      "Epoch 28/100\n",
      "259/259 [==============================] - 0s 1ms/step - loss: 0.4208 - accuracy: 0.8064\n",
      "Epoch 29/100\n",
      "259/259 [==============================] - 0s 1ms/step - loss: 0.4173 - accuracy: 0.8082\n",
      "Epoch 30/100\n",
      "259/259 [==============================] - 0s 1ms/step - loss: 0.4174 - accuracy: 0.8068\n",
      "Epoch 31/100\n",
      "259/259 [==============================] - 0s 1ms/step - loss: 0.4151 - accuracy: 0.8070\n",
      "Epoch 32/100\n",
      "259/259 [==============================] - 0s 1ms/step - loss: 0.4136 - accuracy: 0.8116\n",
      "Epoch 33/100\n",
      "259/259 [==============================] - 0s 2ms/step - loss: 0.4119 - accuracy: 0.8120\n",
      "Epoch 34/100\n",
      "259/259 [==============================] - 0s 2ms/step - loss: 0.4119 - accuracy: 0.8109\n",
      "Epoch 35/100\n",
      "259/259 [==============================] - 0s 1ms/step - loss: 0.4101 - accuracy: 0.8121\n",
      "Epoch 36/100\n",
      "259/259 [==============================] - 0s 1ms/step - loss: 0.4085 - accuracy: 0.8140\n",
      "Epoch 37/100\n",
      "259/259 [==============================] - 0s 1ms/step - loss: 0.4077 - accuracy: 0.8146\n",
      "Epoch 38/100\n",
      "259/259 [==============================] - 0s 1ms/step - loss: 0.4081 - accuracy: 0.8127\n",
      "Epoch 39/100\n",
      "259/259 [==============================] - 0s 1ms/step - loss: 0.4047 - accuracy: 0.8156\n",
      "Epoch 40/100\n",
      "259/259 [==============================] - 0s 1ms/step - loss: 0.4038 - accuracy: 0.8197\n",
      "Epoch 41/100\n",
      "259/259 [==============================] - 0s 1ms/step - loss: 0.4042 - accuracy: 0.8159\n",
      "Epoch 42/100\n",
      "259/259 [==============================] - 0s 1ms/step - loss: 0.4032 - accuracy: 0.8150\n",
      "Epoch 43/100\n",
      "259/259 [==============================] - 0s 2ms/step - loss: 0.4017 - accuracy: 0.8155\n",
      "Epoch 44/100\n",
      "259/259 [==============================] - 0s 2ms/step - loss: 0.4015 - accuracy: 0.8184\n",
      "Epoch 45/100\n",
      "259/259 [==============================] - 0s 1ms/step - loss: 0.4000 - accuracy: 0.8183\n",
      "Epoch 46/100\n",
      "259/259 [==============================] - 0s 1ms/step - loss: 0.3990 - accuracy: 0.8212\n",
      "Epoch 47/100\n",
      "259/259 [==============================] - 0s 2ms/step - loss: 0.3985 - accuracy: 0.8176\n",
      "Epoch 48/100\n",
      "259/259 [==============================] - 0s 2ms/step - loss: 0.3981 - accuracy: 0.8176\n",
      "Epoch 49/100\n",
      "259/259 [==============================] - 0s 1ms/step - loss: 0.3974 - accuracy: 0.8206\n",
      "Epoch 50/100\n",
      "259/259 [==============================] - 0s 2ms/step - loss: 0.3967 - accuracy: 0.8207\n",
      "Epoch 51/100\n",
      "259/259 [==============================] - 0s 1ms/step - loss: 0.3959 - accuracy: 0.8188\n",
      "Epoch 52/100\n",
      "259/259 [==============================] - 0s 1ms/step - loss: 0.3946 - accuracy: 0.8201\n",
      "Epoch 53/100\n",
      "259/259 [==============================] - 0s 2ms/step - loss: 0.3951 - accuracy: 0.8205\n",
      "Epoch 54/100\n",
      "259/259 [==============================] - 0s 1ms/step - loss: 0.3935 - accuracy: 0.8192\n",
      "Epoch 55/100\n",
      "259/259 [==============================] - 0s 1ms/step - loss: 0.3927 - accuracy: 0.8197\n",
      "Epoch 56/100\n",
      "259/259 [==============================] - 0s 1ms/step - loss: 0.3933 - accuracy: 0.8218\n",
      "Epoch 57/100\n",
      "259/259 [==============================] - 0s 2ms/step - loss: 0.3898 - accuracy: 0.8219\n",
      "Epoch 58/100\n",
      "259/259 [==============================] - 0s 2ms/step - loss: 0.3892 - accuracy: 0.8258\n",
      "Epoch 59/100\n",
      "259/259 [==============================] - 0s 1ms/step - loss: 0.3888 - accuracy: 0.8231\n",
      "Epoch 60/100\n",
      "259/259 [==============================] - 0s 1ms/step - loss: 0.3885 - accuracy: 0.8225\n",
      "Epoch 61/100\n",
      "259/259 [==============================] - 0s 1ms/step - loss: 0.3876 - accuracy: 0.8268\n",
      "Epoch 62/100\n",
      "259/259 [==============================] - 0s 2ms/step - loss: 0.3880 - accuracy: 0.8217\n",
      "Epoch 63/100\n",
      "259/259 [==============================] - 0s 2ms/step - loss: 0.3865 - accuracy: 0.8241\n",
      "Epoch 64/100\n",
      "259/259 [==============================] - 0s 1ms/step - loss: 0.3869 - accuracy: 0.8271\n",
      "Epoch 65/100\n",
      "259/259 [==============================] - 0s 1ms/step - loss: 0.3863 - accuracy: 0.8246\n",
      "Epoch 66/100\n",
      "259/259 [==============================] - 0s 1ms/step - loss: 0.3863 - accuracy: 0.8262\n",
      "Epoch 67/100\n",
      "259/259 [==============================] - 0s 1ms/step - loss: 0.3825 - accuracy: 0.8265\n",
      "Epoch 68/100\n",
      "259/259 [==============================] - 0s 1ms/step - loss: 0.3845 - accuracy: 0.8258\n",
      "Epoch 69/100\n",
      "259/259 [==============================] - 0s 1ms/step - loss: 0.3820 - accuracy: 0.8327\n",
      "Epoch 70/100\n",
      "259/259 [==============================] - 0s 1ms/step - loss: 0.3818 - accuracy: 0.8276\n",
      "Epoch 71/100\n",
      "259/259 [==============================] - 0s 2ms/step - loss: 0.3830 - accuracy: 0.8270\n",
      "Epoch 72/100\n",
      "259/259 [==============================] - 0s 1ms/step - loss: 0.3816 - accuracy: 0.8310\n",
      "Epoch 73/100\n",
      "259/259 [==============================] - 0s 1ms/step - loss: 0.3814 - accuracy: 0.8282\n",
      "Epoch 74/100\n",
      "259/259 [==============================] - 0s 1ms/step - loss: 0.3806 - accuracy: 0.8289\n",
      "Epoch 75/100\n",
      "259/259 [==============================] - 0s 1ms/step - loss: 0.3798 - accuracy: 0.8278\n",
      "Epoch 76/100\n",
      "259/259 [==============================] - 0s 1ms/step - loss: 0.3800 - accuracy: 0.8312\n",
      "Epoch 77/100\n",
      "259/259 [==============================] - 0s 1ms/step - loss: 0.3777 - accuracy: 0.8309\n",
      "Epoch 78/100\n",
      "259/259 [==============================] - 0s 2ms/step - loss: 0.3780 - accuracy: 0.8310\n",
      "Epoch 79/100\n",
      "259/259 [==============================] - 0s 2ms/step - loss: 0.3766 - accuracy: 0.8303\n",
      "Epoch 80/100\n",
      "259/259 [==============================] - 0s 2ms/step - loss: 0.3768 - accuracy: 0.8322\n",
      "Epoch 81/100\n"
     ]
    },
    {
     "name": "stdout",
     "output_type": "stream",
     "text": [
      "259/259 [==============================] - 0s 2ms/step - loss: 0.3776 - accuracy: 0.8327\n",
      "Epoch 82/100\n",
      "259/259 [==============================] - 0s 1ms/step - loss: 0.3767 - accuracy: 0.8305\n",
      "Epoch 83/100\n",
      "259/259 [==============================] - 0s 1ms/step - loss: 0.3764 - accuracy: 0.8327\n",
      "Epoch 84/100\n",
      "259/259 [==============================] - 0s 1ms/step - loss: 0.3751 - accuracy: 0.8326\n",
      "Epoch 85/100\n",
      "259/259 [==============================] - 0s 2ms/step - loss: 0.3742 - accuracy: 0.8320\n",
      "Epoch 86/100\n",
      "259/259 [==============================] - 0s 1ms/step - loss: 0.3732 - accuracy: 0.8375\n",
      "Epoch 87/100\n",
      "259/259 [==============================] - 0s 1ms/step - loss: 0.3725 - accuracy: 0.8349\n",
      "Epoch 88/100\n",
      "259/259 [==============================] - 0s 1ms/step - loss: 0.3723 - accuracy: 0.8341\n",
      "Epoch 89/100\n",
      "259/259 [==============================] - 0s 1ms/step - loss: 0.3728 - accuracy: 0.8337\n",
      "Epoch 90/100\n",
      "259/259 [==============================] - 0s 1ms/step - loss: 0.3717 - accuracy: 0.8351\n",
      "Epoch 91/100\n",
      "259/259 [==============================] - 0s 2ms/step - loss: 0.3700 - accuracy: 0.8360\n",
      "Epoch 92/100\n",
      "259/259 [==============================] - 0s 2ms/step - loss: 0.3706 - accuracy: 0.8354\n",
      "Epoch 93/100\n",
      "259/259 [==============================] - 0s 2ms/step - loss: 0.3701 - accuracy: 0.8355\n",
      "Epoch 94/100\n",
      "259/259 [==============================] - 0s 2ms/step - loss: 0.3700 - accuracy: 0.8347\n",
      "Epoch 95/100\n",
      "259/259 [==============================] - 0s 1ms/step - loss: 0.3706 - accuracy: 0.8350\n",
      "Epoch 96/100\n",
      "259/259 [==============================] - 0s 1ms/step - loss: 0.3679 - accuracy: 0.8375\n",
      "Epoch 97/100\n",
      "259/259 [==============================] - 0s 2ms/step - loss: 0.3694 - accuracy: 0.8395\n",
      "Epoch 98/100\n",
      "259/259 [==============================] - 0s 1ms/step - loss: 0.3691 - accuracy: 0.8370\n",
      "Epoch 99/100\n",
      "259/259 [==============================] - 0s 2ms/step - loss: 0.3695 - accuracy: 0.8370\n",
      "Epoch 100/100\n",
      "259/259 [==============================] - 0s 2ms/step - loss: 0.3673 - accuracy: 0.8404\n",
      "65/65 [==============================] - 0s 743us/step - loss: 0.4759 - accuracy: 0.7832\n",
      "[0.4759468138217926, 0.7831558585166931]\n",
      "Classification Report: \n",
      "               precision    recall  f1-score   support\n",
      "\n",
      "           0       0.80      0.76      0.78      1033\n",
      "           1       0.77      0.80      0.79      1033\n",
      "\n",
      "    accuracy                           0.78      2066\n",
      "   macro avg       0.78      0.78      0.78      2066\n",
      "weighted avg       0.78      0.78      0.78      2066\n",
      "\n"
     ]
    }
   ],
   "source": [
    "loss = keras.losses.BinaryCrossentropy()\n",
    "weights = -1\n",
    "y_preds = ANN(X_train, y_train, X_test, y_test, 'binary_crossentropy', -1)"
   ]
  },
  {
   "cell_type": "markdown",
   "id": "6b9e3301",
   "metadata": {},
   "source": [
    "## Method3: SMOTE (Synthetic Minority Oversampling TEchnique)"
   ]
  },
  {
   "cell_type": "code",
   "execution_count": 64,
   "id": "c3aea8b3",
   "metadata": {},
   "outputs": [],
   "source": [
    "#pip install imbalanced-learn"
   ]
  },
  {
   "cell_type": "code",
   "execution_count": 65,
   "id": "e253f2a6",
   "metadata": {},
   "outputs": [],
   "source": [
    "from sklearn import metrics\n",
    "from imblearn.over_sampling import SMOTE"
   ]
  },
  {
   "cell_type": "code",
   "execution_count": 66,
   "id": "62dd98c1",
   "metadata": {},
   "outputs": [],
   "source": [
    "X = df.drop('Churn',axis='columns')\n",
    "y = df['Churn']"
   ]
  },
  {
   "cell_type": "code",
   "execution_count": 68,
   "id": "02a2b0d6",
   "metadata": {},
   "outputs": [
    {
     "data": {
      "text/plain": [
       "0    5163\n",
       "1    5163\n",
       "Name: Churn, dtype: int64"
      ]
     },
     "execution_count": 68,
     "metadata": {},
     "output_type": "execute_result"
    }
   ],
   "source": [
    "smote = SMOTE(sampling_strategy='minority')\n",
    "X_sm, y_sm = smote.fit_resample(X, y)\n",
    "\n",
    "y_sm.value_counts()"
   ]
  },
  {
   "cell_type": "code",
   "execution_count": 69,
   "id": "14b74f6e",
   "metadata": {},
   "outputs": [],
   "source": [
    "from sklearn.model_selection import train_test_split\n",
    "X_train, X_test, y_train, y_test = train_test_split(X_sm, y_sm, test_size=0.2, random_state=2, stratify=y_sm)"
   ]
  },
  {
   "cell_type": "code",
   "execution_count": 70,
   "id": "ee68a532",
   "metadata": {},
   "outputs": [
    {
     "data": {
      "text/plain": [
       "0    4130\n",
       "1    4130\n",
       "Name: Churn, dtype: int64"
      ]
     },
     "execution_count": 70,
     "metadata": {},
     "output_type": "execute_result"
    }
   ],
   "source": [
    "# Number of classes in training Data\n",
    "y_train.value_counts()"
   ]
  },
  {
   "cell_type": "code",
   "execution_count": 71,
   "id": "b56397fc",
   "metadata": {},
   "outputs": [
    {
     "name": "stdout",
     "output_type": "stream",
     "text": [
      "Epoch 1/100\n",
      "259/259 [==============================] - 1s 801us/step - loss: 0.5462 - accuracy: 0.7255\n",
      "Epoch 2/100\n",
      "259/259 [==============================] - 0s 798us/step - loss: 0.4694 - accuracy: 0.7794\n",
      "Epoch 3/100\n",
      "259/259 [==============================] - 0s 801us/step - loss: 0.4592 - accuracy: 0.7846\n",
      "Epoch 4/100\n",
      "259/259 [==============================] - 0s 773us/step - loss: 0.4519 - accuracy: 0.7868\n",
      "Epoch 5/100\n",
      "259/259 [==============================] - 0s 769us/step - loss: 0.4454 - accuracy: 0.7930\n",
      "Epoch 6/100\n",
      "259/259 [==============================] - 0s 763us/step - loss: 0.4410 - accuracy: 0.7943\n",
      "Epoch 7/100\n",
      "259/259 [==============================] - 0s 756us/step - loss: 0.4375 - accuracy: 0.7956\n",
      "Epoch 8/100\n",
      "259/259 [==============================] - 0s 750us/step - loss: 0.4311 - accuracy: 0.8008\n",
      "Epoch 9/100\n",
      "259/259 [==============================] - 0s 755us/step - loss: 0.4275 - accuracy: 0.8002\n",
      "Epoch 10/100\n",
      "259/259 [==============================] - 0s 865us/step - loss: 0.4240 - accuracy: 0.8058\n",
      "Epoch 11/100\n",
      "259/259 [==============================] - 0s 1ms/step - loss: 0.4207 - accuracy: 0.8073\n",
      "Epoch 12/100\n",
      "259/259 [==============================] - 0s 968us/step - loss: 0.4177 - accuracy: 0.8064\n",
      "Epoch 13/100\n",
      "259/259 [==============================] - 0s 757us/step - loss: 0.4144 - accuracy: 0.8116\n",
      "Epoch 14/100\n",
      "259/259 [==============================] - 0s 771us/step - loss: 0.4118 - accuracy: 0.8093\n",
      "Epoch 15/100\n",
      "259/259 [==============================] - 0s 876us/step - loss: 0.4098 - accuracy: 0.8100\n",
      "Epoch 16/100\n",
      "259/259 [==============================] - 0s 1ms/step - loss: 0.4062 - accuracy: 0.8144\n",
      "Epoch 17/100\n",
      "259/259 [==============================] - 0s 1ms/step - loss: 0.4047 - accuracy: 0.8165\n",
      "Epoch 18/100\n",
      "259/259 [==============================] - 0s 1ms/step - loss: 0.4018 - accuracy: 0.8190\n",
      "Epoch 19/100\n",
      "259/259 [==============================] - 0s 1ms/step - loss: 0.4002 - accuracy: 0.8208\n",
      "Epoch 20/100\n",
      "259/259 [==============================] - 0s 1ms/step - loss: 0.3985 - accuracy: 0.8196\n",
      "Epoch 21/100\n",
      "259/259 [==============================] - 0s 1ms/step - loss: 0.3946 - accuracy: 0.8194\n",
      "Epoch 22/100\n",
      "259/259 [==============================] - 0s 1ms/step - loss: 0.3928 - accuracy: 0.8215\n",
      "Epoch 23/100\n",
      "259/259 [==============================] - 0s 1ms/step - loss: 0.3904 - accuracy: 0.8226\n",
      "Epoch 24/100\n",
      "259/259 [==============================] - 0s 1ms/step - loss: 0.3907 - accuracy: 0.8245\n",
      "Epoch 25/100\n",
      "259/259 [==============================] - 0s 828us/step - loss: 0.3884 - accuracy: 0.8252\n",
      "Epoch 26/100\n",
      "259/259 [==============================] - 0s 819us/step - loss: 0.3863 - accuracy: 0.8263\n",
      "Epoch 27/100\n",
      "259/259 [==============================] - 0s 822us/step - loss: 0.3844 - accuracy: 0.8291\n",
      "Epoch 28/100\n",
      "259/259 [==============================] - 0s 820us/step - loss: 0.3843 - accuracy: 0.8255\n",
      "Epoch 29/100\n",
      "259/259 [==============================] - 0s 840us/step - loss: 0.3817 - accuracy: 0.8268\n",
      "Epoch 30/100\n",
      "259/259 [==============================] - 0s 797us/step - loss: 0.3789 - accuracy: 0.8326\n",
      "Epoch 31/100\n",
      "259/259 [==============================] - 0s 794us/step - loss: 0.3777 - accuracy: 0.8314\n",
      "Epoch 32/100\n",
      "259/259 [==============================] - 0s 798us/step - loss: 0.3783 - accuracy: 0.8317\n",
      "Epoch 33/100\n",
      "259/259 [==============================] - 0s 814us/step - loss: 0.3770 - accuracy: 0.8304\n",
      "Epoch 34/100\n",
      "259/259 [==============================] - 0s 832us/step - loss: 0.3764 - accuracy: 0.8287\n",
      "Epoch 35/100\n",
      "259/259 [==============================] - 0s 850us/step - loss: 0.3733 - accuracy: 0.8340\n",
      "Epoch 36/100\n",
      "259/259 [==============================] - 0s 994us/step - loss: 0.3738 - accuracy: 0.8352\n",
      "Epoch 37/100\n",
      "259/259 [==============================] - 0s 941us/step - loss: 0.3734 - accuracy: 0.8352\n",
      "Epoch 38/100\n",
      "259/259 [==============================] - 0s 1ms/step - loss: 0.3704 - accuracy: 0.8378\n",
      "Epoch 39/100\n",
      "259/259 [==============================] - 0s 1ms/step - loss: 0.3694 - accuracy: 0.8362\n",
      "Epoch 40/100\n",
      "259/259 [==============================] - 0s 1ms/step - loss: 0.3697 - accuracy: 0.8347\n",
      "Epoch 41/100\n",
      "259/259 [==============================] - 0s 856us/step - loss: 0.3672 - accuracy: 0.8391\n",
      "Epoch 42/100\n",
      "259/259 [==============================] - 0s 850us/step - loss: 0.3678 - accuracy: 0.8368\n",
      "Epoch 43/100\n",
      "259/259 [==============================] - 0s 866us/step - loss: 0.3650 - accuracy: 0.8408\n",
      "Epoch 44/100\n",
      "259/259 [==============================] - 0s 893us/step - loss: 0.3646 - accuracy: 0.8413\n",
      "Epoch 45/100\n",
      "259/259 [==============================] - 0s 1ms/step - loss: 0.3632 - accuracy: 0.8402\n",
      "Epoch 46/100\n",
      "259/259 [==============================] - 0s 1ms/step - loss: 0.3637 - accuracy: 0.8430\n",
      "Epoch 47/100\n",
      "259/259 [==============================] - 0s 1ms/step - loss: 0.3632 - accuracy: 0.8390\n",
      "Epoch 48/100\n",
      "259/259 [==============================] - 0s 1ms/step - loss: 0.3613 - accuracy: 0.8420\n",
      "Epoch 49/100\n",
      "259/259 [==============================] - 0s 1ms/step - loss: 0.3606 - accuracy: 0.8433\n",
      "Epoch 50/100\n",
      "259/259 [==============================] - 0s 1ms/step - loss: 0.3597 - accuracy: 0.8433\n",
      "Epoch 51/100\n",
      "259/259 [==============================] - 0s 1ms/step - loss: 0.3608 - accuracy: 0.8387\n",
      "Epoch 52/100\n",
      "259/259 [==============================] - 0s 1ms/step - loss: 0.3563 - accuracy: 0.8438\n",
      "Epoch 53/100\n",
      "259/259 [==============================] - 0s 1ms/step - loss: 0.3592 - accuracy: 0.8410\n",
      "Epoch 54/100\n",
      "259/259 [==============================] - 0s 1ms/step - loss: 0.3574 - accuracy: 0.8443\n",
      "Epoch 55/100\n",
      "259/259 [==============================] - 0s 1ms/step - loss: 0.3560 - accuracy: 0.8431\n",
      "Epoch 56/100\n",
      "259/259 [==============================] - 0s 1ms/step - loss: 0.3552 - accuracy: 0.8458\n",
      "Epoch 57/100\n",
      "259/259 [==============================] - 0s 1ms/step - loss: 0.3559 - accuracy: 0.8437\n",
      "Epoch 58/100\n",
      "259/259 [==============================] - 0s 1ms/step - loss: 0.3545 - accuracy: 0.8441\n",
      "Epoch 59/100\n",
      "259/259 [==============================] - 0s 1ms/step - loss: 0.3536 - accuracy: 0.8442\n",
      "Epoch 60/100\n",
      "259/259 [==============================] - 0s 933us/step - loss: 0.3538 - accuracy: 0.8447\n",
      "Epoch 61/100\n",
      "259/259 [==============================] - 0s 963us/step - loss: 0.3513 - accuracy: 0.8455\n",
      "Epoch 62/100\n",
      "259/259 [==============================] - 0s 1ms/step - loss: 0.3520 - accuracy: 0.8450\n",
      "Epoch 63/100\n",
      "259/259 [==============================] - 0s 981us/step - loss: 0.3518 - accuracy: 0.8452\n",
      "Epoch 64/100\n",
      "259/259 [==============================] - 0s 948us/step - loss: 0.3503 - accuracy: 0.8478\n",
      "Epoch 65/100\n",
      "259/259 [==============================] - 0s 973us/step - loss: 0.3495 - accuracy: 0.8476\n",
      "Epoch 66/100\n",
      "259/259 [==============================] - 0s 1ms/step - loss: 0.3500 - accuracy: 0.8472\n",
      "Epoch 67/100\n",
      "259/259 [==============================] - 0s 1ms/step - loss: 0.3490 - accuracy: 0.8467\n",
      "Epoch 68/100\n",
      "259/259 [==============================] - 0s 1ms/step - loss: 0.3474 - accuracy: 0.8466\n",
      "Epoch 69/100\n",
      "259/259 [==============================] - 0s 1ms/step - loss: 0.3457 - accuracy: 0.8483\n",
      "Epoch 70/100\n",
      "259/259 [==============================] - 0s 973us/step - loss: 0.3463 - accuracy: 0.8475\n",
      "Epoch 71/100\n",
      "259/259 [==============================] - 0s 918us/step - loss: 0.3463 - accuracy: 0.8465\n",
      "Epoch 72/100\n",
      "259/259 [==============================] - 0s 1ms/step - loss: 0.3436 - accuracy: 0.8522\n",
      "Epoch 73/100\n",
      "259/259 [==============================] - 0s 1ms/step - loss: 0.3462 - accuracy: 0.8478\n",
      "Epoch 74/100\n",
      "259/259 [==============================] - 0s 1ms/step - loss: 0.3445 - accuracy: 0.8478\n",
      "Epoch 75/100\n",
      "259/259 [==============================] - 0s 1ms/step - loss: 0.3455 - accuracy: 0.8465\n",
      "Epoch 76/100\n",
      "259/259 [==============================] - 0s 1ms/step - loss: 0.3439 - accuracy: 0.8505\n",
      "Epoch 77/100\n",
      "259/259 [==============================] - 0s 1ms/step - loss: 0.3416 - accuracy: 0.8511\n",
      "Epoch 78/100\n",
      "259/259 [==============================] - 0s 1ms/step - loss: 0.3409 - accuracy: 0.8500\n",
      "Epoch 79/100\n",
      "259/259 [==============================] - 0s 1ms/step - loss: 0.3439 - accuracy: 0.8510\n",
      "Epoch 80/100\n"
     ]
    },
    {
     "name": "stdout",
     "output_type": "stream",
     "text": [
      "259/259 [==============================] - 0s 1ms/step - loss: 0.3440 - accuracy: 0.8496\n",
      "Epoch 81/100\n",
      "259/259 [==============================] - 0s 895us/step - loss: 0.3419 - accuracy: 0.8506\n",
      "Epoch 82/100\n",
      "259/259 [==============================] - 0s 951us/step - loss: 0.3425 - accuracy: 0.8499\n",
      "Epoch 83/100\n",
      "259/259 [==============================] - 0s 1ms/step - loss: 0.3397 - accuracy: 0.8544\n",
      "Epoch 84/100\n",
      "259/259 [==============================] - 0s 1ms/step - loss: 0.3419 - accuracy: 0.8513\n",
      "Epoch 85/100\n",
      "259/259 [==============================] - 0s 1ms/step - loss: 0.3375 - accuracy: 0.8513\n",
      "Epoch 86/100\n",
      "259/259 [==============================] - 0s 953us/step - loss: 0.3383 - accuracy: 0.8521\n",
      "Epoch 87/100\n",
      "259/259 [==============================] - 0s 972us/step - loss: 0.3391 - accuracy: 0.8523\n",
      "Epoch 88/100\n",
      "259/259 [==============================] - 0s 996us/step - loss: 0.3401 - accuracy: 0.8530\n",
      "Epoch 89/100\n",
      "259/259 [==============================] - 0s 910us/step - loss: 0.3368 - accuracy: 0.8550\n",
      "Epoch 90/100\n",
      "259/259 [==============================] - 0s 911us/step - loss: 0.3372 - accuracy: 0.8523\n",
      "Epoch 91/100\n",
      "259/259 [==============================] - 0s 917us/step - loss: 0.3359 - accuracy: 0.8540\n",
      "Epoch 92/100\n",
      "259/259 [==============================] - 0s 931us/step - loss: 0.3364 - accuracy: 0.8548\n",
      "Epoch 93/100\n",
      "259/259 [==============================] - 0s 896us/step - loss: 0.3375 - accuracy: 0.8538\n",
      "Epoch 94/100\n",
      "259/259 [==============================] - 0s 954us/step - loss: 0.3344 - accuracy: 0.8544\n",
      "Epoch 95/100\n",
      "259/259 [==============================] - 0s 917us/step - loss: 0.3346 - accuracy: 0.8533\n",
      "Epoch 96/100\n",
      "259/259 [==============================] - 0s 958us/step - loss: 0.3363 - accuracy: 0.8547\n",
      "Epoch 97/100\n",
      "259/259 [==============================] - 0s 923us/step - loss: 0.3325 - accuracy: 0.8544\n",
      "Epoch 98/100\n",
      "259/259 [==============================] - 0s 943us/step - loss: 0.3344 - accuracy: 0.8525\n",
      "Epoch 99/100\n",
      "259/259 [==============================] - 0s 940us/step - loss: 0.3312 - accuracy: 0.8567\n",
      "Epoch 100/100\n",
      "259/259 [==============================] - 0s 986us/step - loss: 0.3346 - accuracy: 0.8540\n",
      "65/65 [==============================] - 0s 744us/step - loss: 0.4340 - accuracy: 0.8136\n",
      "[0.43397197127342224, 0.8136495351791382]\n",
      "Classification Report: \n",
      "               precision    recall  f1-score   support\n",
      "\n",
      "           0       0.82      0.81      0.81      1033\n",
      "           1       0.81      0.82      0.81      1033\n",
      "\n",
      "    accuracy                           0.81      2066\n",
      "   macro avg       0.81      0.81      0.81      2066\n",
      "weighted avg       0.81      0.81      0.81      2066\n",
      "\n"
     ]
    }
   ],
   "source": [
    "y_preds = ANN(X_train, y_train, X_test, y_test, 'binary_crossentropy', -1)"
   ]
  },
  {
   "cell_type": "markdown",
   "id": "23db14c8",
   "metadata": {},
   "source": [
    "## Method4: Use of Ensemble with undersampling"
   ]
  },
  {
   "cell_type": "code",
   "execution_count": 72,
   "id": "e327fb70",
   "metadata": {},
   "outputs": [],
   "source": [
    "# Regain Original features and labels\n",
    "X = df.drop('Churn',axis='columns')\n",
    "y = df['Churn']"
   ]
  },
  {
   "cell_type": "code",
   "execution_count": 73,
   "id": "06315727",
   "metadata": {},
   "outputs": [],
   "source": [
    "from sklearn.model_selection import train_test_split\n",
    "X_train, X_test, y_train, y_test = train_test_split(X, y, test_size=0.2, random_state=2, stratify=y)"
   ]
  },
  {
   "cell_type": "code",
   "execution_count": 74,
   "id": "80573db8",
   "metadata": {},
   "outputs": [
    {
     "data": {
      "text/plain": [
       "0    4130\n",
       "1    1495\n",
       "Name: Churn, dtype: int64"
      ]
     },
     "execution_count": 74,
     "metadata": {},
     "output_type": "execute_result"
    }
   ],
   "source": [
    "y_train.value_counts()"
   ]
  },
  {
   "cell_type": "code",
   "execution_count": 75,
   "id": "9a66c5ba",
   "metadata": {},
   "outputs": [
    {
     "data": {
      "text/plain": [
       "2.762541806020067"
      ]
     },
     "execution_count": 75,
     "metadata": {},
     "output_type": "execute_result"
    }
   ],
   "source": [
    "4130/1495"
   ]
  },
  {
   "cell_type": "markdown",
   "id": "daaf9e25",
   "metadata": {},
   "source": [
    "### Approximately 3 subgroups\n",
    "\n",
    "model1 --> class1(1495) + class0(0, 1495)\n",
    "\n",
    "model2 --> class1(1495) + class0(1496, 2990)\n",
    "\n",
    "model3 --> class1(1495) + class0(2990, 4130)\n"
   ]
  },
  {
   "cell_type": "code",
   "execution_count": 76,
   "id": "caac0d7e",
   "metadata": {},
   "outputs": [],
   "source": [
    "df_ens = X_train.copy()\n",
    "df_ens['Churn'] = y_train"
   ]
  },
  {
   "cell_type": "code",
   "execution_count": 77,
   "id": "c18539e2",
   "metadata": {},
   "outputs": [],
   "source": [
    "df_ens_class0 = df_ens[df_ens.Churn==0]\n",
    "df_ens_class1 = df_ens[df_ens.Churn==1]"
   ]
  },
  {
   "cell_type": "code",
   "execution_count": 78,
   "id": "11ccfe36",
   "metadata": {},
   "outputs": [],
   "source": [
    "def get_train_batch(df_majority, df_minority, start, end):\n",
    "    df_train = pd.concat([df_majority[start:end], df_minority], axis=0)\n",
    "\n",
    "    X_train = df_train.drop('Churn', axis='columns')\n",
    "    y_train = df_train.Churn\n",
    "    return X_train, y_train  "
   ]
  },
  {
   "cell_type": "code",
   "execution_count": 79,
   "id": "c2713229",
   "metadata": {},
   "outputs": [
    {
     "name": "stdout",
     "output_type": "stream",
     "text": [
      "Epoch 1/100\n",
      "94/94 [==============================] - 1s 891us/step - loss: 0.6208 - accuracy: 0.6478\n",
      "Epoch 2/100\n",
      "94/94 [==============================] - 0s 928us/step - loss: 0.5246 - accuracy: 0.7492\n",
      "Epoch 3/100\n",
      "94/94 [==============================] - 0s 887us/step - loss: 0.5080 - accuracy: 0.7559\n",
      "Epoch 4/100\n",
      "94/94 [==============================] - 0s 881us/step - loss: 0.5015 - accuracy: 0.7555\n",
      "Epoch 5/100\n",
      "94/94 [==============================] - 0s 949us/step - loss: 0.4958 - accuracy: 0.7589\n",
      "Epoch 6/100\n",
      "94/94 [==============================] - 0s 990us/step - loss: 0.4935 - accuracy: 0.7629\n",
      "Epoch 7/100\n",
      "94/94 [==============================] - 0s 1ms/step - loss: 0.4885 - accuracy: 0.7656\n",
      "Epoch 8/100\n",
      "94/94 [==============================] - 0s 1ms/step - loss: 0.4882 - accuracy: 0.7666\n",
      "Epoch 9/100\n",
      "94/94 [==============================] - 0s 1ms/step - loss: 0.4842 - accuracy: 0.7712\n",
      "Epoch 10/100\n",
      "94/94 [==============================] - 0s 1ms/step - loss: 0.4841 - accuracy: 0.7679\n",
      "Epoch 11/100\n",
      "94/94 [==============================] - 0s 1ms/step - loss: 0.4807 - accuracy: 0.7679\n",
      "Epoch 12/100\n",
      "94/94 [==============================] - 0s 939us/step - loss: 0.4782 - accuracy: 0.7676\n",
      "Epoch 13/100\n",
      "94/94 [==============================] - 0s 901us/step - loss: 0.4757 - accuracy: 0.7699\n",
      "Epoch 14/100\n",
      "94/94 [==============================] - 0s 899us/step - loss: 0.4750 - accuracy: 0.7706\n",
      "Epoch 15/100\n",
      "94/94 [==============================] - 0s 915us/step - loss: 0.4740 - accuracy: 0.7702\n",
      "Epoch 16/100\n",
      "94/94 [==============================] - 0s 898us/step - loss: 0.4722 - accuracy: 0.7709\n",
      "Epoch 17/100\n",
      "94/94 [==============================] - 0s 929us/step - loss: 0.4709 - accuracy: 0.7719\n",
      "Epoch 18/100\n",
      "94/94 [==============================] - 0s 865us/step - loss: 0.4685 - accuracy: 0.7726\n",
      "Epoch 19/100\n",
      "94/94 [==============================] - 0s 896us/step - loss: 0.4671 - accuracy: 0.7756\n",
      "Epoch 20/100\n",
      "94/94 [==============================] - 0s 932us/step - loss: 0.4670 - accuracy: 0.7716\n",
      "Epoch 21/100\n",
      "94/94 [==============================] - 0s 1ms/step - loss: 0.4646 - accuracy: 0.7753\n",
      "Epoch 22/100\n",
      "94/94 [==============================] - 0s 1ms/step - loss: 0.4627 - accuracy: 0.7736\n",
      "Epoch 23/100\n",
      "94/94 [==============================] - 0s 1ms/step - loss: 0.4612 - accuracy: 0.7742\n",
      "Epoch 24/100\n",
      "94/94 [==============================] - 0s 1ms/step - loss: 0.4614 - accuracy: 0.7759\n",
      "Epoch 25/100\n",
      "94/94 [==============================] - 0s 1ms/step - loss: 0.4586 - accuracy: 0.7779\n",
      "Epoch 26/100\n",
      "94/94 [==============================] - 0s 1ms/step - loss: 0.4577 - accuracy: 0.7826\n",
      "Epoch 27/100\n",
      "94/94 [==============================] - 0s 949us/step - loss: 0.4570 - accuracy: 0.7813\n",
      "Epoch 28/100\n",
      "94/94 [==============================] - 0s 1ms/step - loss: 0.4559 - accuracy: 0.7843\n",
      "Epoch 29/100\n",
      "94/94 [==============================] - 0s 855us/step - loss: 0.4525 - accuracy: 0.7796\n",
      "Epoch 30/100\n",
      "94/94 [==============================] - 0s 831us/step - loss: 0.4528 - accuracy: 0.7819\n",
      "Epoch 31/100\n",
      "94/94 [==============================] - 0s 821us/step - loss: 0.4512 - accuracy: 0.7816\n",
      "Epoch 32/100\n",
      "94/94 [==============================] - 0s 767us/step - loss: 0.4487 - accuracy: 0.7853\n",
      "Epoch 33/100\n",
      "94/94 [==============================] - 0s 830us/step - loss: 0.4478 - accuracy: 0.7890\n",
      "Epoch 34/100\n",
      "94/94 [==============================] - 0s 1ms/step - loss: 0.4464 - accuracy: 0.7866\n",
      "Epoch 35/100\n",
      "94/94 [==============================] - 0s 994us/step - loss: 0.4473 - accuracy: 0.7843\n",
      "Epoch 36/100\n",
      "94/94 [==============================] - 0s 841us/step - loss: 0.4485 - accuracy: 0.7833\n",
      "Epoch 37/100\n",
      "94/94 [==============================] - 0s 867us/step - loss: 0.4416 - accuracy: 0.7849\n",
      "Epoch 38/100\n",
      "94/94 [==============================] - 0s 763us/step - loss: 0.4436 - accuracy: 0.7920\n",
      "Epoch 39/100\n",
      "94/94 [==============================] - 0s 705us/step - loss: 0.4401 - accuracy: 0.7923\n",
      "Epoch 40/100\n",
      "94/94 [==============================] - 0s 816us/step - loss: 0.4383 - accuracy: 0.7916\n",
      "Epoch 41/100\n",
      "94/94 [==============================] - 0s 754us/step - loss: 0.4373 - accuracy: 0.7993\n",
      "Epoch 42/100\n",
      "94/94 [==============================] - 0s 782us/step - loss: 0.4388 - accuracy: 0.7953\n",
      "Epoch 43/100\n",
      "94/94 [==============================] - 0s 749us/step - loss: 0.4353 - accuracy: 0.7957\n",
      "Epoch 44/100\n",
      "94/94 [==============================] - 0s 721us/step - loss: 0.4366 - accuracy: 0.7963\n",
      "Epoch 45/100\n",
      "94/94 [==============================] - 0s 742us/step - loss: 0.4333 - accuracy: 0.7980\n",
      "Epoch 46/100\n",
      "94/94 [==============================] - 0s 965us/step - loss: 0.4325 - accuracy: 0.7960\n",
      "Epoch 47/100\n",
      "94/94 [==============================] - 0s 995us/step - loss: 0.4318 - accuracy: 0.8023\n",
      "Epoch 48/100\n",
      "94/94 [==============================] - 0s 988us/step - loss: 0.4317 - accuracy: 0.7980\n",
      "Epoch 49/100\n",
      "94/94 [==============================] - 0s 932us/step - loss: 0.4277 - accuracy: 0.8027\n",
      "Epoch 50/100\n",
      "94/94 [==============================] - 0s 972us/step - loss: 0.4299 - accuracy: 0.8020\n",
      "Epoch 51/100\n",
      "94/94 [==============================] - 0s 760us/step - loss: 0.4272 - accuracy: 0.8050\n",
      "Epoch 52/100\n",
      "94/94 [==============================] - 0s 743us/step - loss: 0.4261 - accuracy: 0.8020\n",
      "Epoch 53/100\n",
      "94/94 [==============================] - 0s 926us/step - loss: 0.4231 - accuracy: 0.8130\n",
      "Epoch 54/100\n",
      "94/94 [==============================] - 0s 923us/step - loss: 0.4235 - accuracy: 0.8013\n",
      "Epoch 55/100\n",
      "94/94 [==============================] - 0s 1ms/step - loss: 0.4221 - accuracy: 0.8027\n",
      "Epoch 56/100\n",
      "94/94 [==============================] - 0s 1ms/step - loss: 0.4217 - accuracy: 0.8033\n",
      "Epoch 57/100\n",
      "94/94 [==============================] - 0s 953us/step - loss: 0.4236 - accuracy: 0.8084\n",
      "Epoch 58/100\n",
      "94/94 [==============================] - 0s 928us/step - loss: 0.4212 - accuracy: 0.8070\n",
      "Epoch 59/100\n",
      "94/94 [==============================] - 0s 942us/step - loss: 0.4201 - accuracy: 0.8084\n",
      "Epoch 60/100\n",
      "94/94 [==============================] - 0s 886us/step - loss: 0.4174 - accuracy: 0.8117\n",
      "Epoch 61/100\n",
      "94/94 [==============================] - 0s 1ms/step - loss: 0.4167 - accuracy: 0.8047\n",
      "Epoch 62/100\n",
      "94/94 [==============================] - 0s 1ms/step - loss: 0.4160 - accuracy: 0.8100\n",
      "Epoch 63/100\n",
      "94/94 [==============================] - 0s 968us/step - loss: 0.4139 - accuracy: 0.8130\n",
      "Epoch 64/100\n",
      "94/94 [==============================] - 0s 947us/step - loss: 0.4147 - accuracy: 0.8100\n",
      "Epoch 65/100\n",
      "94/94 [==============================] - 0s 806us/step - loss: 0.4110 - accuracy: 0.8094\n",
      "Epoch 66/100\n",
      "94/94 [==============================] - 0s 863us/step - loss: 0.4132 - accuracy: 0.8107\n",
      "Epoch 67/100\n",
      "94/94 [==============================] - 0s 909us/step - loss: 0.4104 - accuracy: 0.8084\n",
      "Epoch 68/100\n",
      "94/94 [==============================] - 0s 877us/step - loss: 0.4110 - accuracy: 0.8127\n",
      "Epoch 69/100\n",
      "94/94 [==============================] - 0s 985us/step - loss: 0.4096 - accuracy: 0.8154\n",
      "Epoch 70/100\n",
      "94/94 [==============================] - 0s 762us/step - loss: 0.4088 - accuracy: 0.8144\n",
      "Epoch 71/100\n",
      "94/94 [==============================] - 0s 753us/step - loss: 0.4061 - accuracy: 0.8104\n",
      "Epoch 72/100\n",
      "94/94 [==============================] - 0s 741us/step - loss: 0.4056 - accuracy: 0.8147\n",
      "Epoch 73/100\n",
      "94/94 [==============================] - 0s 738us/step - loss: 0.4038 - accuracy: 0.8157\n",
      "Epoch 74/100\n",
      "94/94 [==============================] - 0s 741us/step - loss: 0.4062 - accuracy: 0.8144\n",
      "Epoch 75/100\n",
      "94/94 [==============================] - 0s 817us/step - loss: 0.4035 - accuracy: 0.8157\n",
      "Epoch 76/100\n",
      "94/94 [==============================] - 0s 878us/step - loss: 0.4039 - accuracy: 0.8134\n",
      "Epoch 77/100\n",
      "94/94 [==============================] - 0s 933us/step - loss: 0.4019 - accuracy: 0.8191\n",
      "Epoch 78/100\n",
      "94/94 [==============================] - 0s 902us/step - loss: 0.3997 - accuracy: 0.8144\n",
      "Epoch 79/100\n",
      "94/94 [==============================] - 0s 780us/step - loss: 0.4016 - accuracy: 0.8154\n",
      "Epoch 80/100\n",
      "94/94 [==============================] - 0s 820us/step - loss: 0.3981 - accuracy: 0.8157\n",
      "Epoch 81/100\n"
     ]
    },
    {
     "name": "stdout",
     "output_type": "stream",
     "text": [
      "94/94 [==============================] - 0s 791us/step - loss: 0.3983 - accuracy: 0.8184\n",
      "Epoch 82/100\n",
      "94/94 [==============================] - 0s 754us/step - loss: 0.3983 - accuracy: 0.8151\n",
      "Epoch 83/100\n",
      "94/94 [==============================] - 0s 759us/step - loss: 0.3983 - accuracy: 0.8197\n",
      "Epoch 84/100\n",
      "94/94 [==============================] - 0s 715us/step - loss: 0.3923 - accuracy: 0.8241\n",
      "Epoch 85/100\n",
      "94/94 [==============================] - 0s 704us/step - loss: 0.3943 - accuracy: 0.8204\n",
      "Epoch 86/100\n",
      "94/94 [==============================] - 0s 726us/step - loss: 0.3912 - accuracy: 0.8177\n",
      "Epoch 87/100\n",
      "94/94 [==============================] - 0s 792us/step - loss: 0.3941 - accuracy: 0.8207\n",
      "Epoch 88/100\n",
      "94/94 [==============================] - 0s 1ms/step - loss: 0.3933 - accuracy: 0.8221\n",
      "Epoch 89/100\n",
      "94/94 [==============================] - 0s 1ms/step - loss: 0.3894 - accuracy: 0.8234\n",
      "Epoch 90/100\n",
      "94/94 [==============================] - 0s 971us/step - loss: 0.3891 - accuracy: 0.8241\n",
      "Epoch 91/100\n",
      "94/94 [==============================] - 0s 921us/step - loss: 0.3864 - accuracy: 0.8258\n",
      "Epoch 92/100\n",
      "94/94 [==============================] - 0s 846us/step - loss: 0.3885 - accuracy: 0.8247\n",
      "Epoch 93/100\n",
      "94/94 [==============================] - 0s 838us/step - loss: 0.3861 - accuracy: 0.8264\n",
      "Epoch 94/100\n",
      "94/94 [==============================] - 0s 867us/step - loss: 0.3853 - accuracy: 0.8324\n",
      "Epoch 95/100\n",
      "94/94 [==============================] - 0s 817us/step - loss: 0.3833 - accuracy: 0.8234\n",
      "Epoch 96/100\n",
      "94/94 [==============================] - 0s 750us/step - loss: 0.3848 - accuracy: 0.8247\n",
      "Epoch 97/100\n",
      "94/94 [==============================] - 0s 754us/step - loss: 0.3825 - accuracy: 0.8274\n",
      "Epoch 98/100\n",
      "94/94 [==============================] - 0s 739us/step - loss: 0.3815 - accuracy: 0.8278\n",
      "Epoch 99/100\n",
      "94/94 [==============================] - 0s 799us/step - loss: 0.3821 - accuracy: 0.8291\n",
      "Epoch 100/100\n",
      "94/94 [==============================] - 0s 711us/step - loss: 0.3785 - accuracy: 0.8258\n",
      "44/44 [==============================] - 0s 531us/step - loss: 0.5442 - accuracy: 0.7278\n",
      "[0.5441612601280212, 0.7277896404266357]\n",
      "Classification Report: \n",
      "               precision    recall  f1-score   support\n",
      "\n",
      "           0       0.89      0.72      0.79      1033\n",
      "           1       0.49      0.76      0.60       374\n",
      "\n",
      "    accuracy                           0.73      1407\n",
      "   macro avg       0.69      0.74      0.70      1407\n",
      "weighted avg       0.79      0.73      0.74      1407\n",
      "\n"
     ]
    }
   ],
   "source": [
    "X_train, y_train = get_train_batch(df_ens_class0, df_ens_class1, 0, 1495)\n",
    "\n",
    "y_pred1 = ANN(X_train, y_train, X_test, y_test, 'binary_crossentropy', -1)"
   ]
  },
  {
   "cell_type": "code",
   "execution_count": 81,
   "id": "0c92e062",
   "metadata": {},
   "outputs": [
    {
     "name": "stdout",
     "output_type": "stream",
     "text": [
      "Epoch 1/100\n",
      "94/94 [==============================] - 0s 881us/step - loss: 0.6084 - accuracy: 0.6863\n",
      "Epoch 2/100\n",
      "94/94 [==============================] - 0s 884us/step - loss: 0.5303 - accuracy: 0.7421\n",
      "Epoch 3/100\n",
      "94/94 [==============================] - 0s 887us/step - loss: 0.5140 - accuracy: 0.7468\n",
      "Epoch 4/100\n",
      "94/94 [==============================] - 0s 880us/step - loss: 0.5074 - accuracy: 0.7482\n",
      "Epoch 5/100\n",
      "94/94 [==============================] - 0s 865us/step - loss: 0.5049 - accuracy: 0.7508\n",
      "Epoch 6/100\n",
      "94/94 [==============================] - 0s 813us/step - loss: 0.5009 - accuracy: 0.7542\n",
      "Epoch 7/100\n",
      "94/94 [==============================] - 0s 827us/step - loss: 0.4984 - accuracy: 0.7548\n",
      "Epoch 8/100\n",
      "94/94 [==============================] - 0s 854us/step - loss: 0.4962 - accuracy: 0.7562\n",
      "Epoch 9/100\n",
      "94/94 [==============================] - 0s 808us/step - loss: 0.4934 - accuracy: 0.7569\n",
      "Epoch 10/100\n",
      "94/94 [==============================] - 0s 863us/step - loss: 0.4915 - accuracy: 0.7595\n",
      "Epoch 11/100\n",
      "94/94 [==============================] - 0s 827us/step - loss: 0.4884 - accuracy: 0.7672\n",
      "Epoch 12/100\n",
      "94/94 [==============================] - 0s 803us/step - loss: 0.4874 - accuracy: 0.7599\n",
      "Epoch 13/100\n",
      "94/94 [==============================] - 0s 849us/step - loss: 0.4852 - accuracy: 0.7619\n",
      "Epoch 14/100\n",
      "94/94 [==============================] - 0s 835us/step - loss: 0.4836 - accuracy: 0.7619\n",
      "Epoch 15/100\n",
      "94/94 [==============================] - 0s 816us/step - loss: 0.4836 - accuracy: 0.7656\n",
      "Epoch 16/100\n",
      "94/94 [==============================] - 0s 833us/step - loss: 0.4811 - accuracy: 0.7686\n",
      "Epoch 17/100\n",
      "94/94 [==============================] - 0s 875us/step - loss: 0.4800 - accuracy: 0.7672\n",
      "Epoch 18/100\n",
      "94/94 [==============================] - 0s 827us/step - loss: 0.4784 - accuracy: 0.7692\n",
      "Epoch 19/100\n",
      "94/94 [==============================] - 0s 983us/step - loss: 0.4764 - accuracy: 0.7679\n",
      "Epoch 20/100\n",
      "94/94 [==============================] - 0s 956us/step - loss: 0.4760 - accuracy: 0.7696\n",
      "Epoch 21/100\n",
      "94/94 [==============================] - 0s 1ms/step - loss: 0.4743 - accuracy: 0.7753\n",
      "Epoch 22/100\n",
      "94/94 [==============================] - 0s 984us/step - loss: 0.4734 - accuracy: 0.7769\n",
      "Epoch 23/100\n",
      "94/94 [==============================] - 0s 1ms/step - loss: 0.4711 - accuracy: 0.7739\n",
      "Epoch 24/100\n",
      "94/94 [==============================] - 0s 1ms/step - loss: 0.4728 - accuracy: 0.7759\n",
      "Epoch 25/100\n",
      "94/94 [==============================] - 0s 1ms/step - loss: 0.4689 - accuracy: 0.7766\n",
      "Epoch 26/100\n",
      "94/94 [==============================] - 0s 1ms/step - loss: 0.4685 - accuracy: 0.7803\n",
      "Epoch 27/100\n",
      "94/94 [==============================] - 0s 1ms/step - loss: 0.4686 - accuracy: 0.7742\n",
      "Epoch 28/100\n",
      "94/94 [==============================] - 0s 1ms/step - loss: 0.4656 - accuracy: 0.7813\n",
      "Epoch 29/100\n",
      "94/94 [==============================] - 0s 1ms/step - loss: 0.4641 - accuracy: 0.7809\n",
      "Epoch 30/100\n",
      "94/94 [==============================] - 0s 985us/step - loss: 0.4641 - accuracy: 0.7826\n",
      "Epoch 31/100\n",
      "94/94 [==============================] - 0s 1ms/step - loss: 0.4634 - accuracy: 0.7799\n",
      "Epoch 32/100\n",
      "94/94 [==============================] - 0s 1ms/step - loss: 0.4628 - accuracy: 0.7786\n",
      "Epoch 33/100\n",
      "94/94 [==============================] - 0s 860us/step - loss: 0.4599 - accuracy: 0.7786\n",
      "Epoch 34/100\n",
      "94/94 [==============================] - 0s 837us/step - loss: 0.4591 - accuracy: 0.7823\n",
      "Epoch 35/100\n",
      "94/94 [==============================] - 0s 817us/step - loss: 0.4597 - accuracy: 0.7819\n",
      "Epoch 36/100\n",
      "94/94 [==============================] - 0s 937us/step - loss: 0.4576 - accuracy: 0.7813\n",
      "Epoch 37/100\n",
      "94/94 [==============================] - 0s 1ms/step - loss: 0.4568 - accuracy: 0.7846\n",
      "Epoch 38/100\n",
      "94/94 [==============================] - 0s 831us/step - loss: 0.4546 - accuracy: 0.7863\n",
      "Epoch 39/100\n",
      "94/94 [==============================] - 0s 719us/step - loss: 0.4554 - accuracy: 0.7829\n",
      "Epoch 40/100\n",
      "94/94 [==============================] - 0s 730us/step - loss: 0.4536 - accuracy: 0.7900\n",
      "Epoch 41/100\n",
      "94/94 [==============================] - 0s 746us/step - loss: 0.4532 - accuracy: 0.7880\n",
      "Epoch 42/100\n",
      "94/94 [==============================] - 0s 924us/step - loss: 0.4512 - accuracy: 0.7880\n",
      "Epoch 43/100\n",
      "94/94 [==============================] - 0s 855us/step - loss: 0.4503 - accuracy: 0.7893\n",
      "Epoch 44/100\n",
      "94/94 [==============================] - 0s 960us/step - loss: 0.4518 - accuracy: 0.7906\n",
      "Epoch 45/100\n",
      "94/94 [==============================] - 0s 913us/step - loss: 0.4492 - accuracy: 0.7916\n",
      "Epoch 46/100\n",
      "94/94 [==============================] - 0s 956us/step - loss: 0.4476 - accuracy: 0.7930\n",
      "Epoch 47/100\n",
      "94/94 [==============================] - 0s 925us/step - loss: 0.4470 - accuracy: 0.7933\n",
      "Epoch 48/100\n",
      "94/94 [==============================] - 0s 864us/step - loss: 0.4480 - accuracy: 0.7916\n",
      "Epoch 49/100\n",
      "94/94 [==============================] - 0s 997us/step - loss: 0.4452 - accuracy: 0.7950\n",
      "Epoch 50/100\n",
      "94/94 [==============================] - 0s 940us/step - loss: 0.4450 - accuracy: 0.7920\n",
      "Epoch 51/100\n",
      "94/94 [==============================] - 0s 971us/step - loss: 0.4438 - accuracy: 0.7896\n",
      "Epoch 52/100\n",
      "94/94 [==============================] - 0s 1ms/step - loss: 0.4439 - accuracy: 0.7933\n",
      "Epoch 53/100\n",
      "94/94 [==============================] - 0s 1ms/step - loss: 0.4423 - accuracy: 0.7933\n",
      "Epoch 54/100\n",
      "94/94 [==============================] - 0s 964us/step - loss: 0.4409 - accuracy: 0.7946\n",
      "Epoch 55/100\n",
      "94/94 [==============================] - 0s 956us/step - loss: 0.4394 - accuracy: 0.7936\n",
      "Epoch 56/100\n",
      "94/94 [==============================] - 0s 995us/step - loss: 0.4396 - accuracy: 0.7930\n",
      "Epoch 57/100\n",
      "94/94 [==============================] - 0s 884us/step - loss: 0.4387 - accuracy: 0.7923\n",
      "Epoch 58/100\n",
      "94/94 [==============================] - 0s 928us/step - loss: 0.4365 - accuracy: 0.7913\n",
      "Epoch 59/100\n",
      "94/94 [==============================] - 0s 965us/step - loss: 0.4371 - accuracy: 0.7960\n",
      "Epoch 60/100\n",
      "94/94 [==============================] - 0s 966us/step - loss: 0.4361 - accuracy: 0.7963\n",
      "Epoch 61/100\n",
      "94/94 [==============================] - 0s 957us/step - loss: 0.4334 - accuracy: 0.7963\n",
      "Epoch 62/100\n",
      "94/94 [==============================] - 0s 876us/step - loss: 0.4336 - accuracy: 0.7970\n",
      "Epoch 63/100\n",
      "94/94 [==============================] - 0s 934us/step - loss: 0.4320 - accuracy: 0.7977\n",
      "Epoch 64/100\n",
      "94/94 [==============================] - 0s 756us/step - loss: 0.4326 - accuracy: 0.7936\n",
      "Epoch 65/100\n",
      "94/94 [==============================] - 0s 720us/step - loss: 0.4294 - accuracy: 0.7957\n",
      "Epoch 66/100\n",
      "94/94 [==============================] - 0s 770us/step - loss: 0.4296 - accuracy: 0.8017\n",
      "Epoch 67/100\n",
      "94/94 [==============================] - 0s 855us/step - loss: 0.4299 - accuracy: 0.7993\n",
      "Epoch 68/100\n",
      "94/94 [==============================] - 0s 884us/step - loss: 0.4278 - accuracy: 0.7997\n",
      "Epoch 69/100\n",
      "94/94 [==============================] - 0s 789us/step - loss: 0.4274 - accuracy: 0.7977\n",
      "Epoch 70/100\n",
      "94/94 [==============================] - 0s 789us/step - loss: 0.4262 - accuracy: 0.8017\n",
      "Epoch 71/100\n",
      "94/94 [==============================] - 0s 796us/step - loss: 0.4280 - accuracy: 0.7990\n",
      "Epoch 72/100\n",
      "94/94 [==============================] - 0s 820us/step - loss: 0.4261 - accuracy: 0.7980\n",
      "Epoch 73/100\n",
      "94/94 [==============================] - 0s 769us/step - loss: 0.4243 - accuracy: 0.8033\n",
      "Epoch 74/100\n",
      "94/94 [==============================] - 0s 800us/step - loss: 0.4253 - accuracy: 0.8020\n",
      "Epoch 75/100\n",
      "94/94 [==============================] - 0s 766us/step - loss: 0.4218 - accuracy: 0.8027\n",
      "Epoch 76/100\n",
      "94/94 [==============================] - 0s 851us/step - loss: 0.4219 - accuracy: 0.8020\n",
      "Epoch 77/100\n",
      "94/94 [==============================] - 0s 764us/step - loss: 0.4205 - accuracy: 0.8074\n",
      "Epoch 78/100\n",
      "94/94 [==============================] - 0s 792us/step - loss: 0.4201 - accuracy: 0.8064\n",
      "Epoch 79/100\n",
      "94/94 [==============================] - 0s 885us/step - loss: 0.4195 - accuracy: 0.8067\n",
      "Epoch 80/100\n",
      "94/94 [==============================] - 0s 803us/step - loss: 0.4190 - accuracy: 0.8050\n",
      "Epoch 81/100\n"
     ]
    },
    {
     "name": "stdout",
     "output_type": "stream",
     "text": [
      "94/94 [==============================] - 0s 828us/step - loss: 0.4166 - accuracy: 0.8090\n",
      "Epoch 82/100\n",
      "94/94 [==============================] - 0s 1ms/step - loss: 0.4150 - accuracy: 0.8043\n",
      "Epoch 83/100\n",
      "94/94 [==============================] - 0s 984us/step - loss: 0.4145 - accuracy: 0.8064\n",
      "Epoch 84/100\n",
      "94/94 [==============================] - 0s 881us/step - loss: 0.4138 - accuracy: 0.8080\n",
      "Epoch 85/100\n",
      "94/94 [==============================] - 0s 846us/step - loss: 0.4135 - accuracy: 0.8097\n",
      "Epoch 86/100\n",
      "94/94 [==============================] - 0s 793us/step - loss: 0.4126 - accuracy: 0.8084\n",
      "Epoch 87/100\n",
      "94/94 [==============================] - 0s 760us/step - loss: 0.4114 - accuracy: 0.8110\n",
      "Epoch 88/100\n",
      "94/94 [==============================] - 0s 763us/step - loss: 0.4133 - accuracy: 0.8077\n",
      "Epoch 89/100\n",
      "94/94 [==============================] - 0s 766us/step - loss: 0.4147 - accuracy: 0.8057\n",
      "Epoch 90/100\n",
      "94/94 [==============================] - 0s 763us/step - loss: 0.4104 - accuracy: 0.8137\n",
      "Epoch 91/100\n",
      "94/94 [==============================] - 0s 898us/step - loss: 0.4094 - accuracy: 0.8100\n",
      "Epoch 92/100\n",
      "94/94 [==============================] - 0s 829us/step - loss: 0.4083 - accuracy: 0.8124\n",
      "Epoch 93/100\n",
      "94/94 [==============================] - 0s 796us/step - loss: 0.4084 - accuracy: 0.8124\n",
      "Epoch 94/100\n",
      "94/94 [==============================] - 0s 892us/step - loss: 0.4066 - accuracy: 0.8124\n",
      "Epoch 95/100\n",
      "94/94 [==============================] - 0s 802us/step - loss: 0.4051 - accuracy: 0.8110\n",
      "Epoch 96/100\n",
      "94/94 [==============================] - 0s 900us/step - loss: 0.4053 - accuracy: 0.8157\n",
      "Epoch 97/100\n",
      "94/94 [==============================] - 0s 961us/step - loss: 0.4028 - accuracy: 0.8151\n",
      "Epoch 98/100\n",
      "94/94 [==============================] - 0s 844us/step - loss: 0.4062 - accuracy: 0.8110\n",
      "Epoch 99/100\n",
      "94/94 [==============================] - 0s 765us/step - loss: 0.4030 - accuracy: 0.8134\n",
      "Epoch 100/100\n",
      "94/94 [==============================] - 0s 806us/step - loss: 0.4008 - accuracy: 0.8164\n",
      "44/44 [==============================] - 0s 617us/step - loss: 0.5668 - accuracy: 0.7193\n",
      "[0.5668482184410095, 0.7192608118057251]\n",
      "Classification Report: \n",
      "               precision    recall  f1-score   support\n",
      "\n",
      "           0       0.92      0.68      0.78      1033\n",
      "           1       0.48      0.83      0.61       374\n",
      "\n",
      "    accuracy                           0.72      1407\n",
      "   macro avg       0.70      0.75      0.70      1407\n",
      "weighted avg       0.80      0.72      0.74      1407\n",
      "\n"
     ]
    }
   ],
   "source": [
    "X_train, y_train = get_train_batch(df_ens_class0, df_ens_class1, 1495, 2990)\n",
    "\n",
    "y_pred2 = ANN(X_train, y_train, X_test, y_test, 'binary_crossentropy', -1)"
   ]
  },
  {
   "cell_type": "code",
   "execution_count": 82,
   "id": "5f2eabcf",
   "metadata": {},
   "outputs": [
    {
     "name": "stdout",
     "output_type": "stream",
     "text": [
      "Epoch 1/100\n",
      "83/83 [==============================] - 0s 879us/step - loss: 0.6650 - accuracy: 0.6076\n",
      "Epoch 2/100\n",
      "83/83 [==============================] - 0s 887us/step - loss: 0.5208 - accuracy: 0.7575\n",
      "Epoch 3/100\n",
      "83/83 [==============================] - 0s 907us/step - loss: 0.4867 - accuracy: 0.7643\n",
      "Epoch 4/100\n",
      "83/83 [==============================] - 0s 1ms/step - loss: 0.4790 - accuracy: 0.7681\n",
      "Epoch 5/100\n",
      "83/83 [==============================] - 0s 1ms/step - loss: 0.4751 - accuracy: 0.7674\n",
      "Epoch 6/100\n",
      "83/83 [==============================] - 0s 1ms/step - loss: 0.4703 - accuracy: 0.7738\n",
      "Epoch 7/100\n",
      "83/83 [==============================] - 0s 1ms/step - loss: 0.4692 - accuracy: 0.7723\n",
      "Epoch 8/100\n",
      "83/83 [==============================] - 0s 1ms/step - loss: 0.4638 - accuracy: 0.7704\n",
      "Epoch 9/100\n",
      "83/83 [==============================] - 0s 1ms/step - loss: 0.4633 - accuracy: 0.7704\n",
      "Epoch 10/100\n",
      "83/83 [==============================] - 0s 1ms/step - loss: 0.4606 - accuracy: 0.7738\n",
      "Epoch 11/100\n",
      "83/83 [==============================] - 0s 1ms/step - loss: 0.4597 - accuracy: 0.7723\n",
      "Epoch 12/100\n",
      "83/83 [==============================] - 0s 1ms/step - loss: 0.4567 - accuracy: 0.7769\n",
      "Epoch 13/100\n",
      "83/83 [==============================] - 0s 853us/step - loss: 0.4546 - accuracy: 0.7772\n",
      "Epoch 14/100\n",
      "83/83 [==============================] - 0s 848us/step - loss: 0.4529 - accuracy: 0.7750\n",
      "Epoch 15/100\n",
      "83/83 [==============================] - 0s 877us/step - loss: 0.4527 - accuracy: 0.7791\n",
      "Epoch 16/100\n",
      "83/83 [==============================] - 0s 997us/step - loss: 0.4497 - accuracy: 0.7814\n",
      "Epoch 17/100\n",
      "83/83 [==============================] - 0s 884us/step - loss: 0.4493 - accuracy: 0.7806\n",
      "Epoch 18/100\n",
      "83/83 [==============================] - 0s 824us/step - loss: 0.4466 - accuracy: 0.7841\n",
      "Epoch 19/100\n",
      "83/83 [==============================] - 0s 842us/step - loss: 0.4436 - accuracy: 0.7848\n",
      "Epoch 20/100\n",
      "83/83 [==============================] - 0s 817us/step - loss: 0.4450 - accuracy: 0.7848\n",
      "Epoch 21/100\n",
      "83/83 [==============================] - 0s 947us/step - loss: 0.4426 - accuracy: 0.7882\n",
      "Epoch 22/100\n",
      "83/83 [==============================] - 0s 988us/step - loss: 0.4417 - accuracy: 0.7894\n",
      "Epoch 23/100\n",
      "83/83 [==============================] - 0s 985us/step - loss: 0.4411 - accuracy: 0.7920\n",
      "Epoch 24/100\n",
      "83/83 [==============================] - 0s 1ms/step - loss: 0.4378 - accuracy: 0.7920\n",
      "Epoch 25/100\n",
      "83/83 [==============================] - 0s 1ms/step - loss: 0.4367 - accuracy: 0.7901\n",
      "Epoch 26/100\n",
      "83/83 [==============================] - 0s 1ms/step - loss: 0.4349 - accuracy: 0.7932\n",
      "Epoch 27/100\n",
      "83/83 [==============================] - 0s 1ms/step - loss: 0.4348 - accuracy: 0.7958\n",
      "Epoch 28/100\n",
      "83/83 [==============================] - 0s 1ms/step - loss: 0.4357 - accuracy: 0.7920\n",
      "Epoch 29/100\n",
      "83/83 [==============================] - 0s 800us/step - loss: 0.4315 - accuracy: 0.8019\n",
      "Epoch 30/100\n",
      "83/83 [==============================] - 0s 773us/step - loss: 0.4314 - accuracy: 0.8004\n",
      "Epoch 31/100\n",
      "83/83 [==============================] - 0s 773us/step - loss: 0.4290 - accuracy: 0.7981\n",
      "Epoch 32/100\n",
      "83/83 [==============================] - 0s 853us/step - loss: 0.4279 - accuracy: 0.8046\n",
      "Epoch 33/100\n",
      "83/83 [==============================] - 0s 884us/step - loss: 0.4280 - accuracy: 0.8019\n",
      "Epoch 34/100\n",
      "83/83 [==============================] - 0s 817us/step - loss: 0.4260 - accuracy: 0.8057\n",
      "Epoch 35/100\n",
      "83/83 [==============================] - 0s 763us/step - loss: 0.4258 - accuracy: 0.8038\n",
      "Epoch 36/100\n",
      "83/83 [==============================] - 0s 790us/step - loss: 0.4234 - accuracy: 0.8042\n",
      "Epoch 37/100\n",
      "83/83 [==============================] - 0s 899us/step - loss: 0.4234 - accuracy: 0.8087\n",
      "Epoch 38/100\n",
      "83/83 [==============================] - 0s 892us/step - loss: 0.4238 - accuracy: 0.8091\n",
      "Epoch 39/100\n",
      "83/83 [==============================] - 0s 900us/step - loss: 0.4221 - accuracy: 0.8076\n",
      "Epoch 40/100\n",
      "83/83 [==============================] - 0s 849us/step - loss: 0.4219 - accuracy: 0.8049\n",
      "Epoch 41/100\n",
      "83/83 [==============================] - 0s 783us/step - loss: 0.4185 - accuracy: 0.8102\n",
      "Epoch 42/100\n",
      "83/83 [==============================] - 0s 759us/step - loss: 0.4191 - accuracy: 0.8102\n",
      "Epoch 43/100\n",
      "83/83 [==============================] - 0s 834us/step - loss: 0.4184 - accuracy: 0.8083\n",
      "Epoch 44/100\n",
      "83/83 [==============================] - 0s 939us/step - loss: 0.4166 - accuracy: 0.8118\n",
      "Epoch 45/100\n",
      "83/83 [==============================] - 0s 937us/step - loss: 0.4159 - accuracy: 0.8114\n",
      "Epoch 46/100\n",
      "83/83 [==============================] - 0s 911us/step - loss: 0.4159 - accuracy: 0.8099\n",
      "Epoch 47/100\n",
      "83/83 [==============================] - 0s 795us/step - loss: 0.4137 - accuracy: 0.8110\n",
      "Epoch 48/100\n",
      "83/83 [==============================] - 0s 783us/step - loss: 0.4128 - accuracy: 0.8159\n",
      "Epoch 49/100\n",
      "83/83 [==============================] - 0s 775us/step - loss: 0.4124 - accuracy: 0.8106\n",
      "Epoch 50/100\n",
      "83/83 [==============================] - 0s 871us/step - loss: 0.4113 - accuracy: 0.8178\n",
      "Epoch 51/100\n",
      "83/83 [==============================] - 0s 902us/step - loss: 0.4111 - accuracy: 0.8114\n",
      "Epoch 52/100\n",
      "83/83 [==============================] - 0s 927us/step - loss: 0.4093 - accuracy: 0.8190\n",
      "Epoch 53/100\n",
      "83/83 [==============================] - 0s 1ms/step - loss: 0.4095 - accuracy: 0.8178\n",
      "Epoch 54/100\n",
      "83/83 [==============================] - 0s 1ms/step - loss: 0.4078 - accuracy: 0.8110\n",
      "Epoch 55/100\n",
      "83/83 [==============================] - 0s 975us/step - loss: 0.4074 - accuracy: 0.8156\n",
      "Epoch 56/100\n",
      "83/83 [==============================] - 0s 1ms/step - loss: 0.4062 - accuracy: 0.8194\n",
      "Epoch 57/100\n",
      "83/83 [==============================] - 0s 918us/step - loss: 0.4051 - accuracy: 0.8167\n",
      "Epoch 58/100\n",
      "83/83 [==============================] - 0s 910us/step - loss: 0.4049 - accuracy: 0.8167\n",
      "Epoch 59/100\n",
      "83/83 [==============================] - 0s 961us/step - loss: 0.4027 - accuracy: 0.8205\n",
      "Epoch 60/100\n",
      "83/83 [==============================] - 0s 970us/step - loss: 0.4006 - accuracy: 0.8194\n",
      "Epoch 61/100\n",
      "83/83 [==============================] - 0s 854us/step - loss: 0.4053 - accuracy: 0.8137\n",
      "Epoch 62/100\n",
      "83/83 [==============================] - 0s 798us/step - loss: 0.4014 - accuracy: 0.8175\n",
      "Epoch 63/100\n",
      "83/83 [==============================] - 0s 866us/step - loss: 0.3993 - accuracy: 0.8216\n",
      "Epoch 64/100\n",
      "83/83 [==============================] - 0s 878us/step - loss: 0.3996 - accuracy: 0.8197\n",
      "Epoch 65/100\n",
      "83/83 [==============================] - 0s 830us/step - loss: 0.3987 - accuracy: 0.8262\n",
      "Epoch 66/100\n",
      "83/83 [==============================] - 0s 894us/step - loss: 0.3985 - accuracy: 0.8224\n",
      "Epoch 67/100\n",
      "83/83 [==============================] - 0s 803us/step - loss: 0.3968 - accuracy: 0.8254\n",
      "Epoch 68/100\n",
      "83/83 [==============================] - 0s 814us/step - loss: 0.3990 - accuracy: 0.8186\n",
      "Epoch 69/100\n",
      "83/83 [==============================] - 0s 836us/step - loss: 0.3949 - accuracy: 0.8269\n",
      "Epoch 70/100\n",
      "83/83 [==============================] - 0s 841us/step - loss: 0.3947 - accuracy: 0.8228\n",
      "Epoch 71/100\n",
      "83/83 [==============================] - 0s 848us/step - loss: 0.3934 - accuracy: 0.8254\n",
      "Epoch 72/100\n",
      "83/83 [==============================] - 0s 758us/step - loss: 0.3933 - accuracy: 0.8231\n",
      "Epoch 73/100\n",
      "83/83 [==============================] - 0s 823us/step - loss: 0.3917 - accuracy: 0.8258\n",
      "Epoch 74/100\n",
      "83/83 [==============================] - 0s 927us/step - loss: 0.3927 - accuracy: 0.8186\n",
      "Epoch 75/100\n",
      "83/83 [==============================] - 0s 830us/step - loss: 0.3898 - accuracy: 0.8235\n",
      "Epoch 76/100\n",
      "83/83 [==============================] - 0s 838us/step - loss: 0.3905 - accuracy: 0.8235\n",
      "Epoch 77/100\n",
      "83/83 [==============================] - 0s 861us/step - loss: 0.3916 - accuracy: 0.8228\n",
      "Epoch 78/100\n",
      "83/83 [==============================] - 0s 801us/step - loss: 0.3879 - accuracy: 0.8258\n",
      "Epoch 79/100\n",
      "83/83 [==============================] - 0s 739us/step - loss: 0.3894 - accuracy: 0.8235\n",
      "Epoch 80/100\n",
      "83/83 [==============================] - 0s 740us/step - loss: 0.3873 - accuracy: 0.8288\n",
      "Epoch 81/100\n"
     ]
    },
    {
     "name": "stdout",
     "output_type": "stream",
     "text": [
      "83/83 [==============================] - 0s 743us/step - loss: 0.3866 - accuracy: 0.8258\n",
      "Epoch 82/100\n",
      "83/83 [==============================] - 0s 824us/step - loss: 0.3846 - accuracy: 0.8288\n",
      "Epoch 83/100\n",
      "83/83 [==============================] - 0s 840us/step - loss: 0.3873 - accuracy: 0.8277\n",
      "Epoch 84/100\n",
      "83/83 [==============================] - 0s 1ms/step - loss: 0.3863 - accuracy: 0.8262\n",
      "Epoch 85/100\n",
      "83/83 [==============================] - 0s 848us/step - loss: 0.3838 - accuracy: 0.8266\n",
      "Epoch 86/100\n",
      "83/83 [==============================] - 0s 796us/step - loss: 0.3831 - accuracy: 0.8315\n",
      "Epoch 87/100\n",
      "83/83 [==============================] - 0s 722us/step - loss: 0.3821 - accuracy: 0.8254\n",
      "Epoch 88/100\n",
      "83/83 [==============================] - 0s 754us/step - loss: 0.3822 - accuracy: 0.8311\n",
      "Epoch 89/100\n",
      "83/83 [==============================] - 0s 729us/step - loss: 0.3819 - accuracy: 0.8315\n",
      "Epoch 90/100\n",
      "83/83 [==============================] - 0s 736us/step - loss: 0.3818 - accuracy: 0.8338\n",
      "Epoch 91/100\n",
      "83/83 [==============================] - 0s 765us/step - loss: 0.3779 - accuracy: 0.8334\n",
      "Epoch 92/100\n",
      "83/83 [==============================] - 0s 768us/step - loss: 0.3783 - accuracy: 0.8300\n",
      "Epoch 93/100\n",
      "83/83 [==============================] - 0s 758us/step - loss: 0.3775 - accuracy: 0.8319\n",
      "Epoch 94/100\n",
      "83/83 [==============================] - 0s 708us/step - loss: 0.3772 - accuracy: 0.8307\n",
      "Epoch 95/100\n",
      "83/83 [==============================] - 0s 816us/step - loss: 0.3776 - accuracy: 0.8345\n",
      "Epoch 96/100\n",
      "83/83 [==============================] - 0s 794us/step - loss: 0.3774 - accuracy: 0.8330\n",
      "Epoch 97/100\n",
      "83/83 [==============================] - 0s 733us/step - loss: 0.3751 - accuracy: 0.8315\n",
      "Epoch 98/100\n",
      "83/83 [==============================] - 0s 761us/step - loss: 0.3755 - accuracy: 0.8383\n",
      "Epoch 99/100\n",
      "83/83 [==============================] - 0s 774us/step - loss: 0.3728 - accuracy: 0.8383\n",
      "Epoch 100/100\n",
      "83/83 [==============================] - 0s 875us/step - loss: 0.3731 - accuracy: 0.8398\n",
      "44/44 [==============================] - 0s 574us/step - loss: 0.6495 - accuracy: 0.6873\n",
      "[0.6495460867881775, 0.6872779130935669]\n",
      "Classification Report: \n",
      "               precision    recall  f1-score   support\n",
      "\n",
      "           0       0.92      0.63      0.75      1033\n",
      "           1       0.45      0.86      0.59       374\n",
      "\n",
      "    accuracy                           0.69      1407\n",
      "   macro avg       0.69      0.74      0.67      1407\n",
      "weighted avg       0.80      0.69      0.71      1407\n",
      "\n"
     ]
    }
   ],
   "source": [
    "X_train, y_train = get_train_batch(df_ens_class0, df_ens_class1, 2990, 4130)\n",
    "\n",
    "y_pred3 = ANN(X_train, y_train, X_test, y_test, 'binary_crossentropy', -1)"
   ]
  },
  {
   "cell_type": "code",
   "execution_count": 83,
   "id": "00798713",
   "metadata": {},
   "outputs": [
    {
     "data": {
      "text/plain": [
       "1407"
      ]
     },
     "execution_count": 83,
     "metadata": {},
     "output_type": "execute_result"
    }
   ],
   "source": [
    "len(y_pred1)"
   ]
  },
  {
   "cell_type": "code",
   "execution_count": 84,
   "id": "f1b4cf66",
   "metadata": {},
   "outputs": [],
   "source": [
    "y_pred_final = y_pred1.copy()\n",
    "\n",
    "for i in range(len(y_pred1)):\n",
    "    n_ones = y_pred1[i] + y_pred2[i] + y_pred3[i]\n",
    "    if n_ones>1:\n",
    "        y_pred_final[i] = 1\n",
    "    else:\n",
    "        y_pred_final[i] = 0"
   ]
  },
  {
   "cell_type": "code",
   "execution_count": 85,
   "id": "fa5cf048",
   "metadata": {},
   "outputs": [
    {
     "name": "stdout",
     "output_type": "stream",
     "text": [
      "              precision    recall  f1-score   support\n",
      "\n",
      "           0       0.93      0.67      0.78      1033\n",
      "           1       0.49      0.85      0.62       374\n",
      "\n",
      "    accuracy                           0.72      1407\n",
      "   macro avg       0.71      0.76      0.70      1407\n",
      "weighted avg       0.81      0.72      0.74      1407\n",
      "\n"
     ]
    }
   ],
   "source": [
    "cl_rep = classification_report(y_test, y_pred_final)\n",
    "print(cl_rep)"
   ]
  }
 ],
 "metadata": {
  "kernelspec": {
   "display_name": "Python 3",
   "language": "python",
   "name": "python3"
  },
  "language_info": {
   "codemirror_mode": {
    "name": "ipython",
    "version": 3
   },
   "file_extension": ".py",
   "mimetype": "text/x-python",
   "name": "python",
   "nbconvert_exporter": "python",
   "pygments_lexer": "ipython3",
   "version": "3.8.8"
  }
 },
 "nbformat": 4,
 "nbformat_minor": 5
}
